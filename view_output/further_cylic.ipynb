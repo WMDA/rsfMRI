{
 "cells": [
  {
   "cell_type": "code",
   "execution_count": 76,
   "metadata": {},
   "outputs": [],
   "source": [
    "import pandas as pd\n",
    "import numpy as np\n",
    "from decouple import config\n",
    "from fNeuro.utils.pickling import load_pickle\n",
    "from fNeuro.connectivity.connectivity import get_mean_correlation_matrix, Cyclic_analysis, eigen_values, cyclic_order, node_relationship\n",
    "from nilearn import datasets\n",
    "import os\n",
    "import matplotlib.pyplot as plt\n",
    "import seaborn as sns\n",
    "sns.set_style('darkgrid')\n",
    "import re\n",
    "import pingouin as pg"
   ]
  },
  {
   "cell_type": "markdown",
   "metadata": {},
   "source": [
    "Get time series"
   ]
  },
  {
   "cell_type": "code",
   "execution_count": 2,
   "metadata": {},
   "outputs": [],
   "source": [
    "resting_path = config('resting')\n",
    "time_series = load_pickle(os.path.join(resting_path, 'measures', 'time_series'))\n",
    "an_time_series = list(time_series['an'].values())\n",
    "hc_time_series = list(time_series['hc'].values())\n",
    "group_ordered = np.asarray(hc_time_series + an_time_series)\n",
    "group = np.asarray(an_time_series + hc_time_series)\n",
    "msdl = datasets.fetch_atlas_msdl()"
   ]
  },
  {
   "cell_type": "markdown",
   "metadata": {},
   "source": [
    "## Cyclic ordering"
   ]
  },
  {
   "cell_type": "markdown",
   "metadata": {},
   "source": [
    "Create connectome dictionary"
   ]
  },
  {
   "cell_type": "code",
   "execution_count": 3,
   "metadata": {},
   "outputs": [],
   "source": [
    "participant_order = load_pickle(os.path.join(resting_path, 'measures', 'connectome_participant_order'))\n",
    "order = [re.findall('B\\d\\d\\d\\d', participant)[0] for participant in participant_order]\n",
    "connect = Cyclic_analysis(to_vectorize=False).fit(group_ordered)\n",
    "connectome_dictionary = dict(zip(order, connect))"
   ]
  },
  {
   "cell_type": "code",
   "execution_count": 4,
   "metadata": {},
   "outputs": [],
   "source": [
    "correlation_matrix = get_mean_correlation_matrix(group, msdl['labels'])\n",
    "individual_ordering = eigen_values(connectome_dictionary, msdl['labels'])"
   ]
  },
  {
   "cell_type": "code",
   "execution_count": 5,
   "metadata": {},
   "outputs": [
    {
     "data": {
      "text/html": [
       "<div>\n",
       "<style scoped>\n",
       "    .dataframe tbody tr th:only-of-type {\n",
       "        vertical-align: middle;\n",
       "    }\n",
       "\n",
       "    .dataframe tbody tr th {\n",
       "        vertical-align: top;\n",
       "    }\n",
       "\n",
       "    .dataframe thead th {\n",
       "        text-align: right;\n",
       "    }\n",
       "</style>\n",
       "<table border=\"1\" class=\"dataframe\">\n",
       "  <thead>\n",
       "    <tr style=\"text-align: right;\">\n",
       "      <th></th>\n",
       "      <th>regions</th>\n",
       "      <th>eigenvalue_moduli</th>\n",
       "      <th>leading_eigenvector</th>\n",
       "      <th>leading_eigenvector_component_phases</th>\n",
       "    </tr>\n",
       "  </thead>\n",
       "  <tbody>\n",
       "    <tr>\n",
       "      <th>0</th>\n",
       "      <td>R Ins</td>\n",
       "      <td>1.015942e-15</td>\n",
       "      <td>-0.323405-0.000000j</td>\n",
       "      <td>-3.141593</td>\n",
       "    </tr>\n",
       "    <tr>\n",
       "      <th>1</th>\n",
       "      <td>L STS</td>\n",
       "      <td>3.472781e+00</td>\n",
       "      <td>-0.091685-0.002016j</td>\n",
       "      <td>-3.119608</td>\n",
       "    </tr>\n",
       "    <tr>\n",
       "      <th>2</th>\n",
       "      <td>Striate</td>\n",
       "      <td>3.019709e+01</td>\n",
       "      <td>-0.190239-0.013666j</td>\n",
       "      <td>-3.069880</td>\n",
       "    </tr>\n",
       "    <tr>\n",
       "      <th>3</th>\n",
       "      <td>Basal</td>\n",
       "      <td>8.890647e+00</td>\n",
       "      <td>-0.121796-0.039475j</td>\n",
       "      <td>-2.828172</td>\n",
       "    </tr>\n",
       "    <tr>\n",
       "      <th>4</th>\n",
       "      <td>L Aud</td>\n",
       "      <td>3.575048e+01</td>\n",
       "      <td>-0.042032-0.061679j</td>\n",
       "      <td>-2.168973</td>\n",
       "    </tr>\n",
       "    <tr>\n",
       "      <th>5</th>\n",
       "      <td>R TPJ</td>\n",
       "      <td>1.842472e+00</td>\n",
       "      <td>0.018197-0.044980j</td>\n",
       "      <td>-1.186365</td>\n",
       "    </tr>\n",
       "    <tr>\n",
       "      <th>6</th>\n",
       "      <td>R Post Temp</td>\n",
       "      <td>8.890647e+00</td>\n",
       "      <td>0.081528-0.013668j</td>\n",
       "      <td>-0.166099</td>\n",
       "    </tr>\n",
       "    <tr>\n",
       "      <th>7</th>\n",
       "      <td>R IPS</td>\n",
       "      <td>6.317231e+00</td>\n",
       "      <td>0.131973+0.025213j</td>\n",
       "      <td>0.188773</td>\n",
       "    </tr>\n",
       "    <tr>\n",
       "      <th>8</th>\n",
       "      <td>Med DMN</td>\n",
       "      <td>2.407938e+01</td>\n",
       "      <td>0.107013+0.039310j</td>\n",
       "      <td>0.352041</td>\n",
       "    </tr>\n",
       "    <tr>\n",
       "      <th>9</th>\n",
       "      <td>R DMN</td>\n",
       "      <td>1.945593e+01</td>\n",
       "      <td>0.055922+0.024653j</td>\n",
       "      <td>0.415220</td>\n",
       "    </tr>\n",
       "    <tr>\n",
       "      <th>10</th>\n",
       "      <td>L DMN</td>\n",
       "      <td>3.019709e+01</td>\n",
       "      <td>0.112129+0.061470j</td>\n",
       "      <td>0.501467</td>\n",
       "    </tr>\n",
       "    <tr>\n",
       "      <th>11</th>\n",
       "      <td>Sup Front S</td>\n",
       "      <td>1.921196e+00</td>\n",
       "      <td>0.156804+0.121306j</td>\n",
       "      <td>0.658445</td>\n",
       "    </tr>\n",
       "    <tr>\n",
       "      <th>12</th>\n",
       "      <td>Motor</td>\n",
       "      <td>1.377767e+01</td>\n",
       "      <td>0.056454+0.054731j</td>\n",
       "      <td>0.769899</td>\n",
       "    </tr>\n",
       "    <tr>\n",
       "      <th>13</th>\n",
       "      <td>L DLPFC</td>\n",
       "      <td>8.390105e+00</td>\n",
       "      <td>0.139284+0.161346j</td>\n",
       "      <td>0.858652</td>\n",
       "    </tr>\n",
       "    <tr>\n",
       "      <th>14</th>\n",
       "      <td>L TPJ</td>\n",
       "      <td>2.638980e+00</td>\n",
       "      <td>0.020008+0.028951j</td>\n",
       "      <td>0.966076</td>\n",
       "    </tr>\n",
       "    <tr>\n",
       "      <th>15</th>\n",
       "      <td>L Front pol</td>\n",
       "      <td>7.479654e+00</td>\n",
       "      <td>0.102008+0.173206j</td>\n",
       "      <td>1.038551</td>\n",
       "    </tr>\n",
       "    <tr>\n",
       "      <th>16</th>\n",
       "      <td>L IPS</td>\n",
       "      <td>7.479654e+00</td>\n",
       "      <td>0.023063+0.055351j</td>\n",
       "      <td>1.176008</td>\n",
       "    </tr>\n",
       "    <tr>\n",
       "      <th>17</th>\n",
       "      <td>Occ post</td>\n",
       "      <td>1.945593e+01</td>\n",
       "      <td>0.060261+0.148417j</td>\n",
       "      <td>1.185108</td>\n",
       "    </tr>\n",
       "    <tr>\n",
       "      <th>18</th>\n",
       "      <td>R LOC</td>\n",
       "      <td>5.125506e+00</td>\n",
       "      <td>0.036273+0.138136j</td>\n",
       "      <td>1.314007</td>\n",
       "    </tr>\n",
       "    <tr>\n",
       "      <th>19</th>\n",
       "      <td>Front DMN</td>\n",
       "      <td>2.407938e+01</td>\n",
       "      <td>0.004344+0.016645j</td>\n",
       "      <td>1.315542</td>\n",
       "    </tr>\n",
       "    <tr>\n",
       "      <th>20</th>\n",
       "      <td>R Front pol</td>\n",
       "      <td>1.135867e+01</td>\n",
       "      <td>0.026249+0.171828j</td>\n",
       "      <td>1.419207</td>\n",
       "    </tr>\n",
       "    <tr>\n",
       "      <th>21</th>\n",
       "      <td>D ACC</td>\n",
       "      <td>4.453676e+00</td>\n",
       "      <td>0.021634+0.233750j</td>\n",
       "      <td>1.478508</td>\n",
       "    </tr>\n",
       "    <tr>\n",
       "      <th>22</th>\n",
       "      <td>R DLPFC</td>\n",
       "      <td>1.377767e+01</td>\n",
       "      <td>-0.003201+0.235003j</td>\n",
       "      <td>1.584418</td>\n",
       "    </tr>\n",
       "    <tr>\n",
       "      <th>23</th>\n",
       "      <td>L Par</td>\n",
       "      <td>8.390105e+00</td>\n",
       "      <td>-0.002707+0.114616j</td>\n",
       "      <td>1.594413</td>\n",
       "    </tr>\n",
       "    <tr>\n",
       "      <th>24</th>\n",
       "      <td>Broca</td>\n",
       "      <td>1.921196e+00</td>\n",
       "      <td>-0.004892+0.185554j</td>\n",
       "      <td>1.597153</td>\n",
       "    </tr>\n",
       "    <tr>\n",
       "      <th>25</th>\n",
       "      <td>Cereb</td>\n",
       "      <td>9.778964e-01</td>\n",
       "      <td>-0.017503+0.183459j</td>\n",
       "      <td>1.665915</td>\n",
       "    </tr>\n",
       "    <tr>\n",
       "      <th>26</th>\n",
       "      <td>L LOC</td>\n",
       "      <td>6.317231e+00</td>\n",
       "      <td>-0.017502+0.100092j</td>\n",
       "      <td>1.743907</td>\n",
       "    </tr>\n",
       "    <tr>\n",
       "      <th>27</th>\n",
       "      <td>R Par</td>\n",
       "      <td>1.135867e+01</td>\n",
       "      <td>-0.058331+0.186154j</td>\n",
       "      <td>1.874455</td>\n",
       "    </tr>\n",
       "    <tr>\n",
       "      <th>28</th>\n",
       "      <td>R A Ins</td>\n",
       "      <td>3.472781e+00</td>\n",
       "      <td>-0.090651+0.233600j</td>\n",
       "      <td>1.940969</td>\n",
       "    </tr>\n",
       "    <tr>\n",
       "      <th>29</th>\n",
       "      <td>R Aud</td>\n",
       "      <td>3.575048e+01</td>\n",
       "      <td>-0.017370+0.026031j</td>\n",
       "      <td>2.159214</td>\n",
       "    </tr>\n",
       "    <tr>\n",
       "      <th>30</th>\n",
       "      <td>Vis</td>\n",
       "      <td>5.125506e+00</td>\n",
       "      <td>-0.070832+0.102055j</td>\n",
       "      <td>2.177524</td>\n",
       "    </tr>\n",
       "    <tr>\n",
       "      <th>31</th>\n",
       "      <td>R Pars Op</td>\n",
       "      <td>1.842472e+00</td>\n",
       "      <td>-0.037261+0.039724j</td>\n",
       "      <td>2.324208</td>\n",
       "    </tr>\n",
       "    <tr>\n",
       "      <th>32</th>\n",
       "      <td>R Ant IPS</td>\n",
       "      <td>9.746687e-02</td>\n",
       "      <td>-0.089596+0.075094j</td>\n",
       "      <td>2.444028</td>\n",
       "    </tr>\n",
       "    <tr>\n",
       "      <th>33</th>\n",
       "      <td>V ACC</td>\n",
       "      <td>4.453676e+00</td>\n",
       "      <td>-0.227292+0.153117j</td>\n",
       "      <td>2.548766</td>\n",
       "    </tr>\n",
       "    <tr>\n",
       "      <th>34</th>\n",
       "      <td>R STS</td>\n",
       "      <td>2.638980e+00</td>\n",
       "      <td>-0.045589+0.022027j</td>\n",
       "      <td>2.691504</td>\n",
       "    </tr>\n",
       "    <tr>\n",
       "      <th>35</th>\n",
       "      <td>Dors PCC</td>\n",
       "      <td>9.778964e-01</td>\n",
       "      <td>-0.102039+0.038996j</td>\n",
       "      <td>2.776555</td>\n",
       "    </tr>\n",
       "    <tr>\n",
       "      <th>36</th>\n",
       "      <td>L Ant IPS</td>\n",
       "      <td>9.746687e-02</td>\n",
       "      <td>-0.128370+0.032700j</td>\n",
       "      <td>2.892163</td>\n",
       "    </tr>\n",
       "    <tr>\n",
       "      <th>37</th>\n",
       "      <td>L Ins</td>\n",
       "      <td>6.799154e-01</td>\n",
       "      <td>-0.290211+0.044186j</td>\n",
       "      <td>2.990499</td>\n",
       "    </tr>\n",
       "    <tr>\n",
       "      <th>38</th>\n",
       "      <td>Cing</td>\n",
       "      <td>6.799154e-01</td>\n",
       "      <td>-0.161762+0.000592j</td>\n",
       "      <td>3.137930</td>\n",
       "    </tr>\n",
       "  </tbody>\n",
       "</table>\n",
       "</div>"
      ],
      "text/plain": [
       "        regions  eigenvalue_moduli  leading_eigenvector  \\\n",
       "0         R Ins       1.015942e-15  -0.323405-0.000000j   \n",
       "1         L STS       3.472781e+00  -0.091685-0.002016j   \n",
       "2       Striate       3.019709e+01  -0.190239-0.013666j   \n",
       "3         Basal       8.890647e+00  -0.121796-0.039475j   \n",
       "4         L Aud       3.575048e+01  -0.042032-0.061679j   \n",
       "5         R TPJ       1.842472e+00   0.018197-0.044980j   \n",
       "6   R Post Temp       8.890647e+00   0.081528-0.013668j   \n",
       "7         R IPS       6.317231e+00   0.131973+0.025213j   \n",
       "8       Med DMN       2.407938e+01   0.107013+0.039310j   \n",
       "9         R DMN       1.945593e+01   0.055922+0.024653j   \n",
       "10        L DMN       3.019709e+01   0.112129+0.061470j   \n",
       "11  Sup Front S       1.921196e+00   0.156804+0.121306j   \n",
       "12        Motor       1.377767e+01   0.056454+0.054731j   \n",
       "13      L DLPFC       8.390105e+00   0.139284+0.161346j   \n",
       "14        L TPJ       2.638980e+00   0.020008+0.028951j   \n",
       "15  L Front pol       7.479654e+00   0.102008+0.173206j   \n",
       "16        L IPS       7.479654e+00   0.023063+0.055351j   \n",
       "17     Occ post       1.945593e+01   0.060261+0.148417j   \n",
       "18        R LOC       5.125506e+00   0.036273+0.138136j   \n",
       "19    Front DMN       2.407938e+01   0.004344+0.016645j   \n",
       "20  R Front pol       1.135867e+01   0.026249+0.171828j   \n",
       "21        D ACC       4.453676e+00   0.021634+0.233750j   \n",
       "22      R DLPFC       1.377767e+01  -0.003201+0.235003j   \n",
       "23        L Par       8.390105e+00  -0.002707+0.114616j   \n",
       "24        Broca       1.921196e+00  -0.004892+0.185554j   \n",
       "25        Cereb       9.778964e-01  -0.017503+0.183459j   \n",
       "26        L LOC       6.317231e+00  -0.017502+0.100092j   \n",
       "27        R Par       1.135867e+01  -0.058331+0.186154j   \n",
       "28      R A Ins       3.472781e+00  -0.090651+0.233600j   \n",
       "29        R Aud       3.575048e+01  -0.017370+0.026031j   \n",
       "30          Vis       5.125506e+00  -0.070832+0.102055j   \n",
       "31    R Pars Op       1.842472e+00  -0.037261+0.039724j   \n",
       "32    R Ant IPS       9.746687e-02  -0.089596+0.075094j   \n",
       "33        V ACC       4.453676e+00  -0.227292+0.153117j   \n",
       "34        R STS       2.638980e+00  -0.045589+0.022027j   \n",
       "35     Dors PCC       9.778964e-01  -0.102039+0.038996j   \n",
       "36    L Ant IPS       9.746687e-02  -0.128370+0.032700j   \n",
       "37        L Ins       6.799154e-01  -0.290211+0.044186j   \n",
       "38         Cing       6.799154e-01  -0.161762+0.000592j   \n",
       "\n",
       "    leading_eigenvector_component_phases  \n",
       "0                              -3.141593  \n",
       "1                              -3.119608  \n",
       "2                              -3.069880  \n",
       "3                              -2.828172  \n",
       "4                              -2.168973  \n",
       "5                              -1.186365  \n",
       "6                              -0.166099  \n",
       "7                               0.188773  \n",
       "8                               0.352041  \n",
       "9                               0.415220  \n",
       "10                              0.501467  \n",
       "11                              0.658445  \n",
       "12                              0.769899  \n",
       "13                              0.858652  \n",
       "14                              0.966076  \n",
       "15                              1.038551  \n",
       "16                              1.176008  \n",
       "17                              1.185108  \n",
       "18                              1.314007  \n",
       "19                              1.315542  \n",
       "20                              1.419207  \n",
       "21                              1.478508  \n",
       "22                              1.584418  \n",
       "23                              1.594413  \n",
       "24                              1.597153  \n",
       "25                              1.665915  \n",
       "26                              1.743907  \n",
       "27                              1.874455  \n",
       "28                              1.940969  \n",
       "29                              2.159214  \n",
       "30                              2.177524  \n",
       "31                              2.324208  \n",
       "32                              2.444028  \n",
       "33                              2.548766  \n",
       "34                              2.691504  \n",
       "35                              2.776555  \n",
       "36                              2.892163  \n",
       "37                              2.990499  \n",
       "38                              3.137930  "
      ]
     },
     "execution_count": 5,
     "metadata": {},
     "output_type": "execute_result"
    }
   ],
   "source": [
    "an_orders = cyclic_order(correlation_matrix['an_mean_correlations'])\n",
    "an_orders"
   ]
  },
  {
   "cell_type": "code",
   "execution_count": 6,
   "metadata": {},
   "outputs": [
    {
     "data": {
      "text/html": [
       "<div>\n",
       "<style scoped>\n",
       "    .dataframe tbody tr th:only-of-type {\n",
       "        vertical-align: middle;\n",
       "    }\n",
       "\n",
       "    .dataframe tbody tr th {\n",
       "        vertical-align: top;\n",
       "    }\n",
       "\n",
       "    .dataframe thead th {\n",
       "        text-align: right;\n",
       "    }\n",
       "</style>\n",
       "<table border=\"1\" class=\"dataframe\">\n",
       "  <thead>\n",
       "    <tr style=\"text-align: right;\">\n",
       "      <th></th>\n",
       "      <th>regions</th>\n",
       "      <th>eigenvalue_moduli</th>\n",
       "      <th>leading_eigenvector</th>\n",
       "      <th>leading_eigenvector_component_phases</th>\n",
       "    </tr>\n",
       "  </thead>\n",
       "  <tbody>\n",
       "    <tr>\n",
       "      <th>0</th>\n",
       "      <td>Sup Front S</td>\n",
       "      <td>2.616217e+00</td>\n",
       "      <td>-0.306558-0.000000j</td>\n",
       "      <td>-3.141593</td>\n",
       "    </tr>\n",
       "    <tr>\n",
       "      <th>1</th>\n",
       "      <td>R Post Temp</td>\n",
       "      <td>1.403096e+01</td>\n",
       "      <td>-0.038521-0.004765j</td>\n",
       "      <td>-3.018526</td>\n",
       "    </tr>\n",
       "    <tr>\n",
       "      <th>2</th>\n",
       "      <td>L DMN</td>\n",
       "      <td>3.693774e+01</td>\n",
       "      <td>-0.079674-0.018260j</td>\n",
       "      <td>-2.916305</td>\n",
       "    </tr>\n",
       "    <tr>\n",
       "      <th>3</th>\n",
       "      <td>L DLPFC</td>\n",
       "      <td>1.174626e+01</td>\n",
       "      <td>-0.143402-0.035495j</td>\n",
       "      <td>-2.898950</td>\n",
       "    </tr>\n",
       "    <tr>\n",
       "      <th>4</th>\n",
       "      <td>R Front pol</td>\n",
       "      <td>1.542539e+01</td>\n",
       "      <td>-0.114722-0.036833j</td>\n",
       "      <td>-2.830927</td>\n",
       "    </tr>\n",
       "    <tr>\n",
       "      <th>5</th>\n",
       "      <td>R Par</td>\n",
       "      <td>1.542539e+01</td>\n",
       "      <td>-0.190671-0.092380j</td>\n",
       "      <td>-2.690422</td>\n",
       "    </tr>\n",
       "    <tr>\n",
       "      <th>6</th>\n",
       "      <td>R TPJ</td>\n",
       "      <td>2.369798e+00</td>\n",
       "      <td>-0.161900-0.099958j</td>\n",
       "      <td>-2.588475</td>\n",
       "    </tr>\n",
       "    <tr>\n",
       "      <th>7</th>\n",
       "      <td>L Par</td>\n",
       "      <td>1.174626e+01</td>\n",
       "      <td>-0.142149-0.092271j</td>\n",
       "      <td>-2.565839</td>\n",
       "    </tr>\n",
       "    <tr>\n",
       "      <th>8</th>\n",
       "      <td>Broca</td>\n",
       "      <td>2.616217e+00</td>\n",
       "      <td>-0.126705-0.111841j</td>\n",
       "      <td>-2.418427</td>\n",
       "    </tr>\n",
       "    <tr>\n",
       "      <th>9</th>\n",
       "      <td>L Front pol</td>\n",
       "      <td>1.085989e+01</td>\n",
       "      <td>-0.103718-0.105825j</td>\n",
       "      <td>-2.346139</td>\n",
       "    </tr>\n",
       "    <tr>\n",
       "      <th>10</th>\n",
       "      <td>R DLPFC</td>\n",
       "      <td>2.134901e+01</td>\n",
       "      <td>-0.131440-0.155827j</td>\n",
       "      <td>-2.271507</td>\n",
       "    </tr>\n",
       "    <tr>\n",
       "      <th>11</th>\n",
       "      <td>R Pars Op</td>\n",
       "      <td>2.369798e+00</td>\n",
       "      <td>-0.116605-0.146285j</td>\n",
       "      <td>-2.243770</td>\n",
       "    </tr>\n",
       "    <tr>\n",
       "      <th>12</th>\n",
       "      <td>Occ post</td>\n",
       "      <td>2.578810e+01</td>\n",
       "      <td>-0.030276-0.051524j</td>\n",
       "      <td>-2.102057</td>\n",
       "    </tr>\n",
       "    <tr>\n",
       "      <th>13</th>\n",
       "      <td>Front DMN</td>\n",
       "      <td>2.959859e+01</td>\n",
       "      <td>-0.023436-0.045354j</td>\n",
       "      <td>-2.047740</td>\n",
       "    </tr>\n",
       "    <tr>\n",
       "      <th>14</th>\n",
       "      <td>R Ins</td>\n",
       "      <td>1.447866e+00</td>\n",
       "      <td>-0.035317-0.115296j</td>\n",
       "      <td>-1.868037</td>\n",
       "    </tr>\n",
       "    <tr>\n",
       "      <th>15</th>\n",
       "      <td>R A Ins</td>\n",
       "      <td>4.795687e+00</td>\n",
       "      <td>-0.032232-0.209715j</td>\n",
       "      <td>-1.723296</td>\n",
       "    </tr>\n",
       "    <tr>\n",
       "      <th>16</th>\n",
       "      <td>R DMN</td>\n",
       "      <td>2.578810e+01</td>\n",
       "      <td>-0.019612-0.177615j</td>\n",
       "      <td>-1.680771</td>\n",
       "    </tr>\n",
       "    <tr>\n",
       "      <th>17</th>\n",
       "      <td>L Ins</td>\n",
       "      <td>5.131999e-01</td>\n",
       "      <td>0.000095-0.178843j</td>\n",
       "      <td>-1.570267</td>\n",
       "    </tr>\n",
       "    <tr>\n",
       "      <th>18</th>\n",
       "      <td>V ACC</td>\n",
       "      <td>6.064806e+00</td>\n",
       "      <td>0.016689-0.184193j</td>\n",
       "      <td>-1.480438</td>\n",
       "    </tr>\n",
       "    <tr>\n",
       "      <th>19</th>\n",
       "      <td>Basal</td>\n",
       "      <td>1.403096e+01</td>\n",
       "      <td>0.016358-0.128947j</td>\n",
       "      <td>-1.444611</td>\n",
       "    </tr>\n",
       "    <tr>\n",
       "      <th>20</th>\n",
       "      <td>Med DMN</td>\n",
       "      <td>2.959859e+01</td>\n",
       "      <td>0.009672-0.071239j</td>\n",
       "      <td>-1.435848</td>\n",
       "    </tr>\n",
       "    <tr>\n",
       "      <th>21</th>\n",
       "      <td>Dors PCC</td>\n",
       "      <td>5.131999e-01</td>\n",
       "      <td>0.020524-0.125601j</td>\n",
       "      <td>-1.408820</td>\n",
       "    </tr>\n",
       "    <tr>\n",
       "      <th>22</th>\n",
       "      <td>D ACC</td>\n",
       "      <td>6.064806e+00</td>\n",
       "      <td>0.047546-0.172672j</td>\n",
       "      <td>-1.302099</td>\n",
       "    </tr>\n",
       "    <tr>\n",
       "      <th>23</th>\n",
       "      <td>Striate</td>\n",
       "      <td>3.693774e+01</td>\n",
       "      <td>0.157140-0.182310j</td>\n",
       "      <td>-0.859413</td>\n",
       "    </tr>\n",
       "    <tr>\n",
       "      <th>24</th>\n",
       "      <td>Cing</td>\n",
       "      <td>1.447866e+00</td>\n",
       "      <td>0.057243-0.050683j</td>\n",
       "      <td>-0.724686</td>\n",
       "    </tr>\n",
       "    <tr>\n",
       "      <th>25</th>\n",
       "      <td>Vis</td>\n",
       "      <td>6.905701e+00</td>\n",
       "      <td>0.176019-0.102148j</td>\n",
       "      <td>-0.525827</td>\n",
       "    </tr>\n",
       "    <tr>\n",
       "      <th>26</th>\n",
       "      <td>L LOC</td>\n",
       "      <td>7.631500e+00</td>\n",
       "      <td>0.025715-0.007286j</td>\n",
       "      <td>-0.276089</td>\n",
       "    </tr>\n",
       "    <tr>\n",
       "      <th>27</th>\n",
       "      <td>R LOC</td>\n",
       "      <td>6.905701e+00</td>\n",
       "      <td>0.014818-0.001960j</td>\n",
       "      <td>-0.131472</td>\n",
       "    </tr>\n",
       "    <tr>\n",
       "      <th>28</th>\n",
       "      <td>L Ant IPS</td>\n",
       "      <td>1.253199e+00</td>\n",
       "      <td>0.031356+0.008990j</td>\n",
       "      <td>0.279203</td>\n",
       "    </tr>\n",
       "    <tr>\n",
       "      <th>29</th>\n",
       "      <td>R Ant IPS</td>\n",
       "      <td>1.253199e+00</td>\n",
       "      <td>0.000492+0.144052j</td>\n",
       "      <td>1.567382</td>\n",
       "    </tr>\n",
       "    <tr>\n",
       "      <th>30</th>\n",
       "      <td>R STS</td>\n",
       "      <td>3.877294e+00</td>\n",
       "      <td>-0.022398+0.181561j</td>\n",
       "      <td>1.693541</td>\n",
       "    </tr>\n",
       "    <tr>\n",
       "      <th>31</th>\n",
       "      <td>L STS</td>\n",
       "      <td>4.795687e+00</td>\n",
       "      <td>-0.063548+0.155556j</td>\n",
       "      <td>1.958629</td>\n",
       "    </tr>\n",
       "    <tr>\n",
       "      <th>32</th>\n",
       "      <td>L Aud</td>\n",
       "      <td>5.128205e+01</td>\n",
       "      <td>-0.048861+0.107629j</td>\n",
       "      <td>1.996951</td>\n",
       "    </tr>\n",
       "    <tr>\n",
       "      <th>33</th>\n",
       "      <td>R Aud</td>\n",
       "      <td>5.128205e+01</td>\n",
       "      <td>-0.043068+0.090327j</td>\n",
       "      <td>2.015717</td>\n",
       "    </tr>\n",
       "    <tr>\n",
       "      <th>34</th>\n",
       "      <td>R IPS</td>\n",
       "      <td>7.631500e+00</td>\n",
       "      <td>-0.022842+0.041318j</td>\n",
       "      <td>2.075813</td>\n",
       "    </tr>\n",
       "    <tr>\n",
       "      <th>35</th>\n",
       "      <td>L IPS</td>\n",
       "      <td>1.085989e+01</td>\n",
       "      <td>-0.046713+0.045029j</td>\n",
       "      <td>2.374542</td>\n",
       "    </tr>\n",
       "    <tr>\n",
       "      <th>36</th>\n",
       "      <td>Motor</td>\n",
       "      <td>2.134901e+01</td>\n",
       "      <td>-0.159363+0.146159j</td>\n",
       "      <td>2.399387</td>\n",
       "    </tr>\n",
       "    <tr>\n",
       "      <th>37</th>\n",
       "      <td>L TPJ</td>\n",
       "      <td>3.877294e+00</td>\n",
       "      <td>-0.297002+0.068027j</td>\n",
       "      <td>2.916432</td>\n",
       "    </tr>\n",
       "    <tr>\n",
       "      <th>38</th>\n",
       "      <td>Cereb</td>\n",
       "      <td>3.473688e-16</td>\n",
       "      <td>-0.175039+0.010149j</td>\n",
       "      <td>3.083675</td>\n",
       "    </tr>\n",
       "  </tbody>\n",
       "</table>\n",
       "</div>"
      ],
      "text/plain": [
       "        regions  eigenvalue_moduli  leading_eigenvector  \\\n",
       "0   Sup Front S       2.616217e+00  -0.306558-0.000000j   \n",
       "1   R Post Temp       1.403096e+01  -0.038521-0.004765j   \n",
       "2         L DMN       3.693774e+01  -0.079674-0.018260j   \n",
       "3       L DLPFC       1.174626e+01  -0.143402-0.035495j   \n",
       "4   R Front pol       1.542539e+01  -0.114722-0.036833j   \n",
       "5         R Par       1.542539e+01  -0.190671-0.092380j   \n",
       "6         R TPJ       2.369798e+00  -0.161900-0.099958j   \n",
       "7         L Par       1.174626e+01  -0.142149-0.092271j   \n",
       "8         Broca       2.616217e+00  -0.126705-0.111841j   \n",
       "9   L Front pol       1.085989e+01  -0.103718-0.105825j   \n",
       "10      R DLPFC       2.134901e+01  -0.131440-0.155827j   \n",
       "11    R Pars Op       2.369798e+00  -0.116605-0.146285j   \n",
       "12     Occ post       2.578810e+01  -0.030276-0.051524j   \n",
       "13    Front DMN       2.959859e+01  -0.023436-0.045354j   \n",
       "14        R Ins       1.447866e+00  -0.035317-0.115296j   \n",
       "15      R A Ins       4.795687e+00  -0.032232-0.209715j   \n",
       "16        R DMN       2.578810e+01  -0.019612-0.177615j   \n",
       "17        L Ins       5.131999e-01   0.000095-0.178843j   \n",
       "18        V ACC       6.064806e+00   0.016689-0.184193j   \n",
       "19        Basal       1.403096e+01   0.016358-0.128947j   \n",
       "20      Med DMN       2.959859e+01   0.009672-0.071239j   \n",
       "21     Dors PCC       5.131999e-01   0.020524-0.125601j   \n",
       "22        D ACC       6.064806e+00   0.047546-0.172672j   \n",
       "23      Striate       3.693774e+01   0.157140-0.182310j   \n",
       "24         Cing       1.447866e+00   0.057243-0.050683j   \n",
       "25          Vis       6.905701e+00   0.176019-0.102148j   \n",
       "26        L LOC       7.631500e+00   0.025715-0.007286j   \n",
       "27        R LOC       6.905701e+00   0.014818-0.001960j   \n",
       "28    L Ant IPS       1.253199e+00   0.031356+0.008990j   \n",
       "29    R Ant IPS       1.253199e+00   0.000492+0.144052j   \n",
       "30        R STS       3.877294e+00  -0.022398+0.181561j   \n",
       "31        L STS       4.795687e+00  -0.063548+0.155556j   \n",
       "32        L Aud       5.128205e+01  -0.048861+0.107629j   \n",
       "33        R Aud       5.128205e+01  -0.043068+0.090327j   \n",
       "34        R IPS       7.631500e+00  -0.022842+0.041318j   \n",
       "35        L IPS       1.085989e+01  -0.046713+0.045029j   \n",
       "36        Motor       2.134901e+01  -0.159363+0.146159j   \n",
       "37        L TPJ       3.877294e+00  -0.297002+0.068027j   \n",
       "38        Cereb       3.473688e-16  -0.175039+0.010149j   \n",
       "\n",
       "    leading_eigenvector_component_phases  \n",
       "0                              -3.141593  \n",
       "1                              -3.018526  \n",
       "2                              -2.916305  \n",
       "3                              -2.898950  \n",
       "4                              -2.830927  \n",
       "5                              -2.690422  \n",
       "6                              -2.588475  \n",
       "7                              -2.565839  \n",
       "8                              -2.418427  \n",
       "9                              -2.346139  \n",
       "10                             -2.271507  \n",
       "11                             -2.243770  \n",
       "12                             -2.102057  \n",
       "13                             -2.047740  \n",
       "14                             -1.868037  \n",
       "15                             -1.723296  \n",
       "16                             -1.680771  \n",
       "17                             -1.570267  \n",
       "18                             -1.480438  \n",
       "19                             -1.444611  \n",
       "20                             -1.435848  \n",
       "21                             -1.408820  \n",
       "22                             -1.302099  \n",
       "23                             -0.859413  \n",
       "24                             -0.724686  \n",
       "25                             -0.525827  \n",
       "26                             -0.276089  \n",
       "27                             -0.131472  \n",
       "28                              0.279203  \n",
       "29                              1.567382  \n",
       "30                              1.693541  \n",
       "31                              1.958629  \n",
       "32                              1.996951  \n",
       "33                              2.015717  \n",
       "34                              2.075813  \n",
       "35                              2.374542  \n",
       "36                              2.399387  \n",
       "37                              2.916432  \n",
       "38                              3.083675  "
      ]
     },
     "execution_count": 6,
     "metadata": {},
     "output_type": "execute_result"
    }
   ],
   "source": [
    "hc_orders = cyclic_order(correlation_matrix['hc_mean_correlations'])\n",
    "hc_orders"
   ]
  },
  {
   "cell_type": "code",
   "execution_count": 108,
   "metadata": {},
   "outputs": [],
   "source": [
    "plotting_hc = pd.merge(pd.DataFrame(data={'coords': msdl['region_coords'], 'regions': msdl['labels']}), hc_orders, on='regions', how='right')"
   ]
  },
  {
   "cell_type": "markdown",
   "metadata": {},
   "source": [
    "## Cyclicity between nodes"
   ]
  },
  {
   "cell_type": "code",
   "execution_count": 7,
   "metadata": {},
   "outputs": [],
   "source": [
    "workable_time_series = dict(zip(order, [*time_series['hc'].values()] + [*time_series['an'].values()]))\n",
    "time_series_dataframe = dict(zip(workable_time_series.keys(),\n",
    "                    list(map(lambda dataframe: pd.DataFrame(dataframe, columns=msdl['labels']), \n",
    "                                            workable_time_series.values()))))"
   ]
  },
  {
   "cell_type": "code",
   "execution_count": 8,
   "metadata": {},
   "outputs": [],
   "source": [
    "area_dict = dict(zip(\n",
    "    time_series_dataframe.keys(),\n",
    "    list(map(node_relationship, ['L STS - R STS' for val in time_series_dataframe.keys()],\n",
    "                ['R Post Temp - L IPS'for val in time_series_dataframe.keys()], time_series_dataframe.values()))\n",
    "))"
   ]
  },
  {
   "cell_type": "code",
   "execution_count": 9,
   "metadata": {},
   "outputs": [],
   "source": [
    "hc_relationship_between = pd.concat([area_dict[part]['between_relationship'] for part in area_dict.keys() if 'B1' in part], axis=1)\n",
    "hc_relationship_within = pd.concat([area_dict[part]['within_relationship'] for part in area_dict.keys() if 'B1' in part], axis=1)\n",
    "an_relationship_between = pd.concat([area_dict[part]['between_relationship'] for part in area_dict.keys() if 'B2' in part], axis=1)\n",
    "an_relationship_within = pd.concat([area_dict[part]['within_relationship'] for part in area_dict.keys() if 'B2' in part], axis=1)"
   ]
  },
  {
   "cell_type": "code",
   "execution_count": 10,
   "metadata": {},
   "outputs": [
    {
     "data": {
      "text/plain": [
       "[Text(0.5, 1.0, 'L STS - R STS')]"
      ]
     },
     "execution_count": 10,
     "metadata": {},
     "output_type": "execute_result"
    },
    {
     "data": {
      "image/png": "[encoded data removed]",
      "text/plain": [
       "<Figure size 1600x1000 with 2 Axes>"
      ]
     },
     "metadata": {},
     "output_type": "display_data"
    }
   ],
   "source": [
    "fig,ax = plt.subplots(1,2, figsize=(16,10))\n",
    "plot = sns.lineplot(pd.concat((hc_relationship_within.mean(axis=1), an_relationship_within.mean(axis=1)), axis=1).rename(columns ={0: 'HC', 1: 'AN' }),\n",
    "                    ax=ax[0], lw=1)\n",
    "plot.axhline(0.0, color=\"red\")\n",
    "plot.set(title='R Post Temp - L IPS')\n",
    "plot = sns.lineplot(pd.concat((hc_relationship_between.mean(axis=1), an_relationship_between.mean(axis=1) ), axis=1).rename(columns ={0: 'HC', 1: 'AN' }),\n",
    "                    ax=ax[1], lw=1)\n",
    "plot.axhline(0.0, color=\"red\")\n",
    "plot.set(title='L STS - R STS')"
   ]
  },
  {
   "cell_type": "markdown",
   "metadata": {},
   "source": [
    "## Relating to behavioural measures"
   ]
  },
  {
   "cell_type": "code",
   "execution_count": 73,
   "metadata": {},
   "outputs": [],
   "source": [
    "df = pd.read_csv(os.path.join(resting_path, 'neuroimaging_behavioural.csv'))\n",
    "df = df.drop(df[df['B_Number'].str.contains('B2010')].index)\n",
    "df = pd.merge(df,pd.DataFrame(time_series_dataframe.keys()).rename(columns={0: 'B_Number'}), on='B_Number', how='right')\n",
    "an = df[df['B_Number'].str.contains('B2')]\n",
    "hc = df[df['B_Number'].str.contains('B1')]"
   ]
  },
  {
   "cell_type": "code",
   "execution_count": 90,
   "metadata": {},
   "outputs": [
    {
     "data": {
      "text/plain": [
       "'edeq_global_score to between nodes'"
      ]
     },
     "metadata": {},
     "output_type": "display_data"
    },
    {
     "data": {
      "text/html": [
       "<div>\n",
       "<style scoped>\n",
       "    .dataframe tbody tr th:only-of-type {\n",
       "        vertical-align: middle;\n",
       "    }\n",
       "\n",
       "    .dataframe tbody tr th {\n",
       "        vertical-align: top;\n",
       "    }\n",
       "\n",
       "    .dataframe thead th {\n",
       "        text-align: right;\n",
       "    }\n",
       "</style>\n",
       "<table border=\"1\" class=\"dataframe\">\n",
       "  <thead>\n",
       "    <tr style=\"text-align: right;\">\n",
       "      <th></th>\n",
       "      <th>n</th>\n",
       "      <th>r</th>\n",
       "      <th>CI95%</th>\n",
       "      <th>BF10</th>\n",
       "      <th>power</th>\n",
       "    </tr>\n",
       "  </thead>\n",
       "  <tbody>\n",
       "    <tr>\n",
       "      <th>pearson</th>\n",
       "      <td>26</td>\n",
       "      <td>0.416856</td>\n",
       "      <td>[0.04, 0.69]</td>\n",
       "      <td>2.045</td>\n",
       "      <td>0.580749</td>\n",
       "    </tr>\n",
       "  </tbody>\n",
       "</table>\n",
       "</div>"
      ],
      "text/plain": [
       "          n         r         CI95%   BF10     power\n",
       "pearson  26  0.416856  [0.04, 0.69]  2.045  0.580749"
      ]
     },
     "metadata": {},
     "output_type": "display_data"
    },
    {
     "data": {
      "text/plain": [
       "'edeq_global_score to within nodes'"
      ]
     },
     "metadata": {},
     "output_type": "display_data"
    },
    {
     "data": {
      "text/html": [
       "<div>\n",
       "<style scoped>\n",
       "    .dataframe tbody tr th:only-of-type {\n",
       "        vertical-align: middle;\n",
       "    }\n",
       "\n",
       "    .dataframe tbody tr th {\n",
       "        vertical-align: top;\n",
       "    }\n",
       "\n",
       "    .dataframe thead th {\n",
       "        text-align: right;\n",
       "    }\n",
       "</style>\n",
       "<table border=\"1\" class=\"dataframe\">\n",
       "  <thead>\n",
       "    <tr style=\"text-align: right;\">\n",
       "      <th></th>\n",
       "      <th>n</th>\n",
       "      <th>r</th>\n",
       "      <th>CI95%</th>\n",
       "      <th>BF10</th>\n",
       "      <th>power</th>\n",
       "    </tr>\n",
       "  </thead>\n",
       "  <tbody>\n",
       "    <tr>\n",
       "      <th>pearson</th>\n",
       "      <td>26</td>\n",
       "      <td>-0.065022</td>\n",
       "      <td>[-0.44, 0.33]</td>\n",
       "      <td>0.255</td>\n",
       "      <td>0.061032</td>\n",
       "    </tr>\n",
       "  </tbody>\n",
       "</table>\n",
       "</div>"
      ],
      "text/plain": [
       "          n         r          CI95%   BF10     power\n",
       "pearson  26 -0.065022  [-0.44, 0.33]  0.255  0.061032"
      ]
     },
     "metadata": {},
     "output_type": "display_data"
    },
    {
     "data": {
      "text/plain": [
       "'anxiety to between nodes'"
      ]
     },
     "metadata": {},
     "output_type": "display_data"
    },
    {
     "data": {
      "text/html": [
       "<div>\n",
       "<style scoped>\n",
       "    .dataframe tbody tr th:only-of-type {\n",
       "        vertical-align: middle;\n",
       "    }\n",
       "\n",
       "    .dataframe tbody tr th {\n",
       "        vertical-align: top;\n",
       "    }\n",
       "\n",
       "    .dataframe thead th {\n",
       "        text-align: right;\n",
       "    }\n",
       "</style>\n",
       "<table border=\"1\" class=\"dataframe\">\n",
       "  <thead>\n",
       "    <tr style=\"text-align: right;\">\n",
       "      <th></th>\n",
       "      <th>n</th>\n",
       "      <th>r</th>\n",
       "      <th>CI95%</th>\n",
       "      <th>BF10</th>\n",
       "      <th>power</th>\n",
       "    </tr>\n",
       "  </thead>\n",
       "  <tbody>\n",
       "    <tr>\n",
       "      <th>pearson</th>\n",
       "      <td>26</td>\n",
       "      <td>0.043216</td>\n",
       "      <td>[-0.35, 0.42]</td>\n",
       "      <td>0.249</td>\n",
       "      <td>0.054519</td>\n",
       "    </tr>\n",
       "  </tbody>\n",
       "</table>\n",
       "</div>"
      ],
      "text/plain": [
       "          n         r          CI95%   BF10     power\n",
       "pearson  26  0.043216  [-0.35, 0.42]  0.249  0.054519"
      ]
     },
     "metadata": {},
     "output_type": "display_data"
    },
    {
     "data": {
      "text/plain": [
       "'anxiety to within nodes'"
      ]
     },
     "metadata": {},
     "output_type": "display_data"
    },
    {
     "data": {
      "text/html": [
       "<div>\n",
       "<style scoped>\n",
       "    .dataframe tbody tr th:only-of-type {\n",
       "        vertical-align: middle;\n",
       "    }\n",
       "\n",
       "    .dataframe tbody tr th {\n",
       "        vertical-align: top;\n",
       "    }\n",
       "\n",
       "    .dataframe thead th {\n",
       "        text-align: right;\n",
       "    }\n",
       "</style>\n",
       "<table border=\"1\" class=\"dataframe\">\n",
       "  <thead>\n",
       "    <tr style=\"text-align: right;\">\n",
       "      <th></th>\n",
       "      <th>n</th>\n",
       "      <th>r</th>\n",
       "      <th>CI95%</th>\n",
       "      <th>BF10</th>\n",
       "      <th>power</th>\n",
       "    </tr>\n",
       "  </thead>\n",
       "  <tbody>\n",
       "    <tr>\n",
       "      <th>pearson</th>\n",
       "      <td>26</td>\n",
       "      <td>0.194234</td>\n",
       "      <td>[-0.21, 0.54]</td>\n",
       "      <td>0.374</td>\n",
       "      <td>0.159672</td>\n",
       "    </tr>\n",
       "  </tbody>\n",
       "</table>\n",
       "</div>"
      ],
      "text/plain": [
       "          n         r          CI95%   BF10     power\n",
       "pearson  26  0.194234  [-0.21, 0.54]  0.374  0.159672"
      ]
     },
     "metadata": {},
     "output_type": "display_data"
    },
    {
     "data": {
      "text/plain": [
       "'depression to between nodes'"
      ]
     },
     "metadata": {},
     "output_type": "display_data"
    },
    {
     "data": {
      "text/html": [
       "<div>\n",
       "<style scoped>\n",
       "    .dataframe tbody tr th:only-of-type {\n",
       "        vertical-align: middle;\n",
       "    }\n",
       "\n",
       "    .dataframe tbody tr th {\n",
       "        vertical-align: top;\n",
       "    }\n",
       "\n",
       "    .dataframe thead th {\n",
       "        text-align: right;\n",
       "    }\n",
       "</style>\n",
       "<table border=\"1\" class=\"dataframe\">\n",
       "  <thead>\n",
       "    <tr style=\"text-align: right;\">\n",
       "      <th></th>\n",
       "      <th>n</th>\n",
       "      <th>r</th>\n",
       "      <th>CI95%</th>\n",
       "      <th>BF10</th>\n",
       "      <th>power</th>\n",
       "    </tr>\n",
       "  </thead>\n",
       "  <tbody>\n",
       "    <tr>\n",
       "      <th>pearson</th>\n",
       "      <td>26</td>\n",
       "      <td>0.163537</td>\n",
       "      <td>[-0.24, 0.52]</td>\n",
       "      <td>0.329</td>\n",
       "      <td>0.126235</td>\n",
       "    </tr>\n",
       "  </tbody>\n",
       "</table>\n",
       "</div>"
      ],
      "text/plain": [
       "          n         r          CI95%   BF10     power\n",
       "pearson  26  0.163537  [-0.24, 0.52]  0.329  0.126235"
      ]
     },
     "metadata": {},
     "output_type": "display_data"
    },
    {
     "data": {
      "text/plain": [
       "'depression to within nodes'"
      ]
     },
     "metadata": {},
     "output_type": "display_data"
    },
    {
     "data": {
      "text/html": [
       "<div>\n",
       "<style scoped>\n",
       "    .dataframe tbody tr th:only-of-type {\n",
       "        vertical-align: middle;\n",
       "    }\n",
       "\n",
       "    .dataframe tbody tr th {\n",
       "        vertical-align: top;\n",
       "    }\n",
       "\n",
       "    .dataframe thead th {\n",
       "        text-align: right;\n",
       "    }\n",
       "</style>\n",
       "<table border=\"1\" class=\"dataframe\">\n",
       "  <thead>\n",
       "    <tr style=\"text-align: right;\">\n",
       "      <th></th>\n",
       "      <th>n</th>\n",
       "      <th>r</th>\n",
       "      <th>CI95%</th>\n",
       "      <th>BF10</th>\n",
       "      <th>power</th>\n",
       "    </tr>\n",
       "  </thead>\n",
       "  <tbody>\n",
       "    <tr>\n",
       "      <th>pearson</th>\n",
       "      <td>26</td>\n",
       "      <td>0.147668</td>\n",
       "      <td>[-0.25, 0.51]</td>\n",
       "      <td>0.311</td>\n",
       "      <td>0.11151</td>\n",
       "    </tr>\n",
       "  </tbody>\n",
       "</table>\n",
       "</div>"
      ],
      "text/plain": [
       "          n         r          CI95%   BF10    power\n",
       "pearson  26  0.147668  [-0.25, 0.51]  0.311  0.11151"
      ]
     },
     "metadata": {},
     "output_type": "display_data"
    },
    {
     "data": {
      "text/plain": [
       "'age to between nodes'"
      ]
     },
     "metadata": {},
     "output_type": "display_data"
    },
    {
     "data": {
      "text/html": [
       "<div>\n",
       "<style scoped>\n",
       "    .dataframe tbody tr th:only-of-type {\n",
       "        vertical-align: middle;\n",
       "    }\n",
       "\n",
       "    .dataframe tbody tr th {\n",
       "        vertical-align: top;\n",
       "    }\n",
       "\n",
       "    .dataframe thead th {\n",
       "        text-align: right;\n",
       "    }\n",
       "</style>\n",
       "<table border=\"1\" class=\"dataframe\">\n",
       "  <thead>\n",
       "    <tr style=\"text-align: right;\">\n",
       "      <th></th>\n",
       "      <th>n</th>\n",
       "      <th>r</th>\n",
       "      <th>CI95%</th>\n",
       "      <th>BF10</th>\n",
       "      <th>power</th>\n",
       "    </tr>\n",
       "  </thead>\n",
       "  <tbody>\n",
       "    <tr>\n",
       "      <th>pearson</th>\n",
       "      <td>27</td>\n",
       "      <td>-0.294425</td>\n",
       "      <td>[-0.61, 0.1]</td>\n",
       "      <td>0.687</td>\n",
       "      <td>0.326349</td>\n",
       "    </tr>\n",
       "  </tbody>\n",
       "</table>\n",
       "</div>"
      ],
      "text/plain": [
       "          n         r         CI95%   BF10     power\n",
       "pearson  27 -0.294425  [-0.61, 0.1]  0.687  0.326349"
      ]
     },
     "metadata": {},
     "output_type": "display_data"
    },
    {
     "data": {
      "text/plain": [
       "'age to within nodes'"
      ]
     },
     "metadata": {},
     "output_type": "display_data"
    },
    {
     "data": {
      "text/html": [
       "<div>\n",
       "<style scoped>\n",
       "    .dataframe tbody tr th:only-of-type {\n",
       "        vertical-align: middle;\n",
       "    }\n",
       "\n",
       "    .dataframe tbody tr th {\n",
       "        vertical-align: top;\n",
       "    }\n",
       "\n",
       "    .dataframe thead th {\n",
       "        text-align: right;\n",
       "    }\n",
       "</style>\n",
       "<table border=\"1\" class=\"dataframe\">\n",
       "  <thead>\n",
       "    <tr style=\"text-align: right;\">\n",
       "      <th></th>\n",
       "      <th>n</th>\n",
       "      <th>r</th>\n",
       "      <th>CI95%</th>\n",
       "      <th>BF10</th>\n",
       "      <th>power</th>\n",
       "    </tr>\n",
       "  </thead>\n",
       "  <tbody>\n",
       "    <tr>\n",
       "      <th>pearson</th>\n",
       "      <td>27</td>\n",
       "      <td>0.013978</td>\n",
       "      <td>[-0.37, 0.39]</td>\n",
       "      <td>0.24</td>\n",
       "      <td>0.049989</td>\n",
       "    </tr>\n",
       "  </tbody>\n",
       "</table>\n",
       "</div>"
      ],
      "text/plain": [
       "          n         r          CI95%  BF10     power\n",
       "pearson  27  0.013978  [-0.37, 0.39]  0.24  0.049989"
      ]
     },
     "metadata": {},
     "output_type": "display_data"
    },
    {
     "data": {
      "text/plain": [
       "'bmi to between nodes'"
      ]
     },
     "metadata": {},
     "output_type": "display_data"
    },
    {
     "data": {
      "text/html": [
       "<div>\n",
       "<style scoped>\n",
       "    .dataframe tbody tr th:only-of-type {\n",
       "        vertical-align: middle;\n",
       "    }\n",
       "\n",
       "    .dataframe tbody tr th {\n",
       "        vertical-align: top;\n",
       "    }\n",
       "\n",
       "    .dataframe thead th {\n",
       "        text-align: right;\n",
       "    }\n",
       "</style>\n",
       "<table border=\"1\" class=\"dataframe\">\n",
       "  <thead>\n",
       "    <tr style=\"text-align: right;\">\n",
       "      <th></th>\n",
       "      <th>n</th>\n",
       "      <th>r</th>\n",
       "      <th>CI95%</th>\n",
       "      <th>BF10</th>\n",
       "      <th>power</th>\n",
       "    </tr>\n",
       "  </thead>\n",
       "  <tbody>\n",
       "    <tr>\n",
       "      <th>pearson</th>\n",
       "      <td>27</td>\n",
       "      <td>0.105342</td>\n",
       "      <td>[-0.29, 0.47]</td>\n",
       "      <td>0.272</td>\n",
       "      <td>0.08171</td>\n",
       "    </tr>\n",
       "  </tbody>\n",
       "</table>\n",
       "</div>"
      ],
      "text/plain": [
       "          n         r          CI95%   BF10    power\n",
       "pearson  27  0.105342  [-0.29, 0.47]  0.272  0.08171"
      ]
     },
     "metadata": {},
     "output_type": "display_data"
    },
    {
     "data": {
      "text/plain": [
       "'bmi to within nodes'"
      ]
     },
     "metadata": {},
     "output_type": "display_data"
    },
    {
     "data": {
      "text/html": [
       "<div>\n",
       "<style scoped>\n",
       "    .dataframe tbody tr th:only-of-type {\n",
       "        vertical-align: middle;\n",
       "    }\n",
       "\n",
       "    .dataframe tbody tr th {\n",
       "        vertical-align: top;\n",
       "    }\n",
       "\n",
       "    .dataframe thead th {\n",
       "        text-align: right;\n",
       "    }\n",
       "</style>\n",
       "<table border=\"1\" class=\"dataframe\">\n",
       "  <thead>\n",
       "    <tr style=\"text-align: right;\">\n",
       "      <th></th>\n",
       "      <th>n</th>\n",
       "      <th>r</th>\n",
       "      <th>CI95%</th>\n",
       "      <th>BF10</th>\n",
       "      <th>power</th>\n",
       "    </tr>\n",
       "  </thead>\n",
       "  <tbody>\n",
       "    <tr>\n",
       "      <th>pearson</th>\n",
       "      <td>27</td>\n",
       "      <td>0.024466</td>\n",
       "      <td>[-0.36, 0.4]</td>\n",
       "      <td>0.241</td>\n",
       "      <td>0.051134</td>\n",
       "    </tr>\n",
       "  </tbody>\n",
       "</table>\n",
       "</div>"
      ],
      "text/plain": [
       "          n         r         CI95%   BF10     power\n",
       "pearson  27  0.024466  [-0.36, 0.4]  0.241  0.051134"
      ]
     },
     "metadata": {},
     "output_type": "display_data"
    }
   ],
   "source": [
    "for col in hc.columns[1:]:\n",
    "    display(f'{col} to between nodes', pg.corr(hc[col], hc_relationship_between.mean(axis=0)).drop('p-val', axis=1))\n",
    "    display(f'{col} to within nodes', pg.corr(hc[col], hc_relationship_within.mean(axis=0)).drop('p-val', axis=1))"
   ]
  },
  {
   "cell_type": "code",
   "execution_count": 91,
   "metadata": {},
   "outputs": [
    {
     "data": {
      "text/plain": [
       "'edeq_global_score to between nodes'"
      ]
     },
     "metadata": {},
     "output_type": "display_data"
    },
    {
     "data": {
      "text/html": [
       "<div>\n",
       "<style scoped>\n",
       "    .dataframe tbody tr th:only-of-type {\n",
       "        vertical-align: middle;\n",
       "    }\n",
       "\n",
       "    .dataframe tbody tr th {\n",
       "        vertical-align: top;\n",
       "    }\n",
       "\n",
       "    .dataframe thead th {\n",
       "        text-align: right;\n",
       "    }\n",
       "</style>\n",
       "<table border=\"1\" class=\"dataframe\">\n",
       "  <thead>\n",
       "    <tr style=\"text-align: right;\">\n",
       "      <th></th>\n",
       "      <th>n</th>\n",
       "      <th>r</th>\n",
       "      <th>CI95%</th>\n",
       "      <th>BF10</th>\n",
       "      <th>power</th>\n",
       "    </tr>\n",
       "  </thead>\n",
       "  <tbody>\n",
       "    <tr>\n",
       "      <th>pearson</th>\n",
       "      <td>62</td>\n",
       "      <td>0.096675</td>\n",
       "      <td>[-0.16, 0.34]</td>\n",
       "      <td>0.208</td>\n",
       "      <td>0.116249</td>\n",
       "    </tr>\n",
       "  </tbody>\n",
       "</table>\n",
       "</div>"
      ],
      "text/plain": [
       "          n         r          CI95%   BF10     power\n",
       "pearson  62  0.096675  [-0.16, 0.34]  0.208  0.116249"
      ]
     },
     "metadata": {},
     "output_type": "display_data"
    },
    {
     "data": {
      "text/plain": [
       "'edeq_global_score to within nodes'"
      ]
     },
     "metadata": {},
     "output_type": "display_data"
    },
    {
     "data": {
      "text/html": [
       "<div>\n",
       "<style scoped>\n",
       "    .dataframe tbody tr th:only-of-type {\n",
       "        vertical-align: middle;\n",
       "    }\n",
       "\n",
       "    .dataframe tbody tr th {\n",
       "        vertical-align: top;\n",
       "    }\n",
       "\n",
       "    .dataframe thead th {\n",
       "        text-align: right;\n",
       "    }\n",
       "</style>\n",
       "<table border=\"1\" class=\"dataframe\">\n",
       "  <thead>\n",
       "    <tr style=\"text-align: right;\">\n",
       "      <th></th>\n",
       "      <th>n</th>\n",
       "      <th>r</th>\n",
       "      <th>CI95%</th>\n",
       "      <th>BF10</th>\n",
       "      <th>power</th>\n",
       "    </tr>\n",
       "  </thead>\n",
       "  <tbody>\n",
       "    <tr>\n",
       "      <th>pearson</th>\n",
       "      <td>62</td>\n",
       "      <td>0.046419</td>\n",
       "      <td>[-0.21, 0.29]</td>\n",
       "      <td>0.169</td>\n",
       "      <td>0.064651</td>\n",
       "    </tr>\n",
       "  </tbody>\n",
       "</table>\n",
       "</div>"
      ],
      "text/plain": [
       "          n         r          CI95%   BF10     power\n",
       "pearson  62  0.046419  [-0.21, 0.29]  0.169  0.064651"
      ]
     },
     "metadata": {},
     "output_type": "display_data"
    },
    {
     "data": {
      "text/plain": [
       "'anxiety to between nodes'"
      ]
     },
     "metadata": {},
     "output_type": "display_data"
    },
    {
     "data": {
      "text/html": [
       "<div>\n",
       "<style scoped>\n",
       "    .dataframe tbody tr th:only-of-type {\n",
       "        vertical-align: middle;\n",
       "    }\n",
       "\n",
       "    .dataframe tbody tr th {\n",
       "        vertical-align: top;\n",
       "    }\n",
       "\n",
       "    .dataframe thead th {\n",
       "        text-align: right;\n",
       "    }\n",
       "</style>\n",
       "<table border=\"1\" class=\"dataframe\">\n",
       "  <thead>\n",
       "    <tr style=\"text-align: right;\">\n",
       "      <th></th>\n",
       "      <th>n</th>\n",
       "      <th>r</th>\n",
       "      <th>CI95%</th>\n",
       "      <th>BF10</th>\n",
       "      <th>power</th>\n",
       "    </tr>\n",
       "  </thead>\n",
       "  <tbody>\n",
       "    <tr>\n",
       "      <th>pearson</th>\n",
       "      <td>62</td>\n",
       "      <td>-0.108106</td>\n",
       "      <td>[-0.35, 0.15]</td>\n",
       "      <td>0.223</td>\n",
       "      <td>0.133529</td>\n",
       "    </tr>\n",
       "  </tbody>\n",
       "</table>\n",
       "</div>"
      ],
      "text/plain": [
       "          n         r          CI95%   BF10     power\n",
       "pearson  62 -0.108106  [-0.35, 0.15]  0.223  0.133529"
      ]
     },
     "metadata": {},
     "output_type": "display_data"
    },
    {
     "data": {
      "text/plain": [
       "'anxiety to within nodes'"
      ]
     },
     "metadata": {},
     "output_type": "display_data"
    },
    {
     "data": {
      "text/html": [
       "<div>\n",
       "<style scoped>\n",
       "    .dataframe tbody tr th:only-of-type {\n",
       "        vertical-align: middle;\n",
       "    }\n",
       "\n",
       "    .dataframe tbody tr th {\n",
       "        vertical-align: top;\n",
       "    }\n",
       "\n",
       "    .dataframe thead th {\n",
       "        text-align: right;\n",
       "    }\n",
       "</style>\n",
       "<table border=\"1\" class=\"dataframe\">\n",
       "  <thead>\n",
       "    <tr style=\"text-align: right;\">\n",
       "      <th></th>\n",
       "      <th>n</th>\n",
       "      <th>r</th>\n",
       "      <th>CI95%</th>\n",
       "      <th>BF10</th>\n",
       "      <th>power</th>\n",
       "    </tr>\n",
       "  </thead>\n",
       "  <tbody>\n",
       "    <tr>\n",
       "      <th>pearson</th>\n",
       "      <td>62</td>\n",
       "      <td>-0.156828</td>\n",
       "      <td>[-0.39, 0.1]</td>\n",
       "      <td>0.327</td>\n",
       "      <td>0.231089</td>\n",
       "    </tr>\n",
       "  </tbody>\n",
       "</table>\n",
       "</div>"
      ],
      "text/plain": [
       "          n         r         CI95%   BF10     power\n",
       "pearson  62 -0.156828  [-0.39, 0.1]  0.327  0.231089"
      ]
     },
     "metadata": {},
     "output_type": "display_data"
    },
    {
     "data": {
      "text/plain": [
       "'depression to between nodes'"
      ]
     },
     "metadata": {},
     "output_type": "display_data"
    },
    {
     "data": {
      "text/html": [
       "<div>\n",
       "<style scoped>\n",
       "    .dataframe tbody tr th:only-of-type {\n",
       "        vertical-align: middle;\n",
       "    }\n",
       "\n",
       "    .dataframe tbody tr th {\n",
       "        vertical-align: top;\n",
       "    }\n",
       "\n",
       "    .dataframe thead th {\n",
       "        text-align: right;\n",
       "    }\n",
       "</style>\n",
       "<table border=\"1\" class=\"dataframe\">\n",
       "  <thead>\n",
       "    <tr style=\"text-align: right;\">\n",
       "      <th></th>\n",
       "      <th>n</th>\n",
       "      <th>r</th>\n",
       "      <th>CI95%</th>\n",
       "      <th>BF10</th>\n",
       "      <th>power</th>\n",
       "    </tr>\n",
       "  </thead>\n",
       "  <tbody>\n",
       "    <tr>\n",
       "      <th>pearson</th>\n",
       "      <td>62</td>\n",
       "      <td>0.012483</td>\n",
       "      <td>[-0.24, 0.26]</td>\n",
       "      <td>0.159</td>\n",
       "      <td>0.050813</td>\n",
       "    </tr>\n",
       "  </tbody>\n",
       "</table>\n",
       "</div>"
      ],
      "text/plain": [
       "          n         r          CI95%   BF10     power\n",
       "pearson  62  0.012483  [-0.24, 0.26]  0.159  0.050813"
      ]
     },
     "metadata": {},
     "output_type": "display_data"
    },
    {
     "data": {
      "text/plain": [
       "'depression to within nodes'"
      ]
     },
     "metadata": {},
     "output_type": "display_data"
    },
    {
     "data": {
      "text/html": [
       "<div>\n",
       "<style scoped>\n",
       "    .dataframe tbody tr th:only-of-type {\n",
       "        vertical-align: middle;\n",
       "    }\n",
       "\n",
       "    .dataframe tbody tr th {\n",
       "        vertical-align: top;\n",
       "    }\n",
       "\n",
       "    .dataframe thead th {\n",
       "        text-align: right;\n",
       "    }\n",
       "</style>\n",
       "<table border=\"1\" class=\"dataframe\">\n",
       "  <thead>\n",
       "    <tr style=\"text-align: right;\">\n",
       "      <th></th>\n",
       "      <th>n</th>\n",
       "      <th>r</th>\n",
       "      <th>CI95%</th>\n",
       "      <th>BF10</th>\n",
       "      <th>power</th>\n",
       "    </tr>\n",
       "  </thead>\n",
       "  <tbody>\n",
       "    <tr>\n",
       "      <th>pearson</th>\n",
       "      <td>62</td>\n",
       "      <td>0.101147</td>\n",
       "      <td>[-0.15, 0.34]</td>\n",
       "      <td>0.214</td>\n",
       "      <td>0.122756</td>\n",
       "    </tr>\n",
       "  </tbody>\n",
       "</table>\n",
       "</div>"
      ],
      "text/plain": [
       "          n         r          CI95%   BF10     power\n",
       "pearson  62  0.101147  [-0.15, 0.34]  0.214  0.122756"
      ]
     },
     "metadata": {},
     "output_type": "display_data"
    },
    {
     "data": {
      "text/plain": [
       "'age to between nodes'"
      ]
     },
     "metadata": {},
     "output_type": "display_data"
    },
    {
     "data": {
      "text/html": [
       "<div>\n",
       "<style scoped>\n",
       "    .dataframe tbody tr th:only-of-type {\n",
       "        vertical-align: middle;\n",
       "    }\n",
       "\n",
       "    .dataframe tbody tr th {\n",
       "        vertical-align: top;\n",
       "    }\n",
       "\n",
       "    .dataframe thead th {\n",
       "        text-align: right;\n",
       "    }\n",
       "</style>\n",
       "<table border=\"1\" class=\"dataframe\">\n",
       "  <thead>\n",
       "    <tr style=\"text-align: right;\">\n",
       "      <th></th>\n",
       "      <th>n</th>\n",
       "      <th>r</th>\n",
       "      <th>CI95%</th>\n",
       "      <th>BF10</th>\n",
       "      <th>power</th>\n",
       "    </tr>\n",
       "  </thead>\n",
       "  <tbody>\n",
       "    <tr>\n",
       "      <th>pearson</th>\n",
       "      <td>63</td>\n",
       "      <td>0.027869</td>\n",
       "      <td>[-0.22, 0.27]</td>\n",
       "      <td>0.161</td>\n",
       "      <td>0.055178</td>\n",
       "    </tr>\n",
       "  </tbody>\n",
       "</table>\n",
       "</div>"
      ],
      "text/plain": [
       "          n         r          CI95%   BF10     power\n",
       "pearson  63  0.027869  [-0.22, 0.27]  0.161  0.055178"
      ]
     },
     "metadata": {},
     "output_type": "display_data"
    },
    {
     "data": {
      "text/plain": [
       "'age to within nodes'"
      ]
     },
     "metadata": {},
     "output_type": "display_data"
    },
    {
     "data": {
      "text/html": [
       "<div>\n",
       "<style scoped>\n",
       "    .dataframe tbody tr th:only-of-type {\n",
       "        vertical-align: middle;\n",
       "    }\n",
       "\n",
       "    .dataframe tbody tr th {\n",
       "        vertical-align: top;\n",
       "    }\n",
       "\n",
       "    .dataframe thead th {\n",
       "        text-align: right;\n",
       "    }\n",
       "</style>\n",
       "<table border=\"1\" class=\"dataframe\">\n",
       "  <thead>\n",
       "    <tr style=\"text-align: right;\">\n",
       "      <th></th>\n",
       "      <th>n</th>\n",
       "      <th>r</th>\n",
       "      <th>CI95%</th>\n",
       "      <th>BF10</th>\n",
       "      <th>power</th>\n",
       "    </tr>\n",
       "  </thead>\n",
       "  <tbody>\n",
       "    <tr>\n",
       "      <th>pearson</th>\n",
       "      <td>63</td>\n",
       "      <td>-0.117066</td>\n",
       "      <td>[-0.35, 0.13]</td>\n",
       "      <td>0.237</td>\n",
       "      <td>0.150266</td>\n",
       "    </tr>\n",
       "  </tbody>\n",
       "</table>\n",
       "</div>"
      ],
      "text/plain": [
       "          n         r          CI95%   BF10     power\n",
       "pearson  63 -0.117066  [-0.35, 0.13]  0.237  0.150266"
      ]
     },
     "metadata": {},
     "output_type": "display_data"
    },
    {
     "data": {
      "text/plain": [
       "'bmi to between nodes'"
      ]
     },
     "metadata": {},
     "output_type": "display_data"
    },
    {
     "data": {
      "text/html": [
       "<div>\n",
       "<style scoped>\n",
       "    .dataframe tbody tr th:only-of-type {\n",
       "        vertical-align: middle;\n",
       "    }\n",
       "\n",
       "    .dataframe tbody tr th {\n",
       "        vertical-align: top;\n",
       "    }\n",
       "\n",
       "    .dataframe thead th {\n",
       "        text-align: right;\n",
       "    }\n",
       "</style>\n",
       "<table border=\"1\" class=\"dataframe\">\n",
       "  <thead>\n",
       "    <tr style=\"text-align: right;\">\n",
       "      <th></th>\n",
       "      <th>n</th>\n",
       "      <th>r</th>\n",
       "      <th>CI95%</th>\n",
       "      <th>BF10</th>\n",
       "      <th>power</th>\n",
       "    </tr>\n",
       "  </thead>\n",
       "  <tbody>\n",
       "    <tr>\n",
       "      <th>pearson</th>\n",
       "      <td>60</td>\n",
       "      <td>-0.167888</td>\n",
       "      <td>[-0.4, 0.09]</td>\n",
       "      <td>0.36</td>\n",
       "      <td>0.251414</td>\n",
       "    </tr>\n",
       "  </tbody>\n",
       "</table>\n",
       "</div>"
      ],
      "text/plain": [
       "          n         r         CI95%  BF10     power\n",
       "pearson  60 -0.167888  [-0.4, 0.09]  0.36  0.251414"
      ]
     },
     "metadata": {},
     "output_type": "display_data"
    },
    {
     "data": {
      "text/plain": [
       "'bmi to within nodes'"
      ]
     },
     "metadata": {},
     "output_type": "display_data"
    },
    {
     "data": {
      "text/html": [
       "<div>\n",
       "<style scoped>\n",
       "    .dataframe tbody tr th:only-of-type {\n",
       "        vertical-align: middle;\n",
       "    }\n",
       "\n",
       "    .dataframe tbody tr th {\n",
       "        vertical-align: top;\n",
       "    }\n",
       "\n",
       "    .dataframe thead th {\n",
       "        text-align: right;\n",
       "    }\n",
       "</style>\n",
       "<table border=\"1\" class=\"dataframe\">\n",
       "  <thead>\n",
       "    <tr style=\"text-align: right;\">\n",
       "      <th></th>\n",
       "      <th>n</th>\n",
       "      <th>r</th>\n",
       "      <th>CI95%</th>\n",
       "      <th>BF10</th>\n",
       "      <th>power</th>\n",
       "    </tr>\n",
       "  </thead>\n",
       "  <tbody>\n",
       "    <tr>\n",
       "      <th>pearson</th>\n",
       "      <td>60</td>\n",
       "      <td>-0.024125</td>\n",
       "      <td>[-0.28, 0.23]</td>\n",
       "      <td>0.164</td>\n",
       "      <td>0.0536</td>\n",
       "    </tr>\n",
       "  </tbody>\n",
       "</table>\n",
       "</div>"
      ],
      "text/plain": [
       "          n         r          CI95%   BF10   power\n",
       "pearson  60 -0.024125  [-0.28, 0.23]  0.164  0.0536"
      ]
     },
     "metadata": {},
     "output_type": "display_data"
    }
   ],
   "source": [
    "for col in an.columns[1:]:\n",
    "    display(f'{col} to between nodes', pg.corr(an[col], an_relationship_between.mean(axis=0)).drop('p-val', axis=1))\n",
    "    display(f'{col} to within nodes', pg.corr(an[col], an_relationship_within.mean(axis=0)).drop('p-val', axis=1))"
   ]
  },
  {
   "cell_type": "code",
   "execution_count": 94,
   "metadata": {},
   "outputs": [],
   "source": [
    "hc_ordering = pd.concat([individual_ordering[part] for part in individual_ordering.keys() if 'B1' in part], axis=1)\n",
    "an_ordering = pd.concat([individual_ordering[part] for part in individual_ordering.keys() if 'B2' in part], axis=1)"
   ]
  },
  {
   "cell_type": "code",
   "execution_count": 95,
   "metadata": {},
   "outputs": [
    {
     "data": {
      "text/plain": [
       "'edeq_global_score to between nodes'"
      ]
     },
     "metadata": {},
     "output_type": "display_data"
    },
    {
     "data": {
      "text/html": [
       "<div>\n",
       "<style scoped>\n",
       "    .dataframe tbody tr th:only-of-type {\n",
       "        vertical-align: middle;\n",
       "    }\n",
       "\n",
       "    .dataframe tbody tr th {\n",
       "        vertical-align: top;\n",
       "    }\n",
       "\n",
       "    .dataframe thead th {\n",
       "        text-align: right;\n",
       "    }\n",
       "</style>\n",
       "<table border=\"1\" class=\"dataframe\">\n",
       "  <thead>\n",
       "    <tr style=\"text-align: right;\">\n",
       "      <th></th>\n",
       "      <th>n</th>\n",
       "      <th>r</th>\n",
       "      <th>CI95%</th>\n",
       "      <th>BF10</th>\n",
       "      <th>power</th>\n",
       "    </tr>\n",
       "  </thead>\n",
       "  <tbody>\n",
       "    <tr>\n",
       "      <th>pearson</th>\n",
       "      <td>26</td>\n",
       "      <td>-0.065884</td>\n",
       "      <td>[-0.44, 0.33]</td>\n",
       "      <td>0.256</td>\n",
       "      <td>0.061345</td>\n",
       "    </tr>\n",
       "  </tbody>\n",
       "</table>\n",
       "</div>"
      ],
      "text/plain": [
       "          n         r          CI95%   BF10     power\n",
       "pearson  26 -0.065884  [-0.44, 0.33]  0.256  0.061345"
      ]
     },
     "metadata": {},
     "output_type": "display_data"
    },
    {
     "data": {
      "text/plain": [
       "'anxiety to between nodes'"
      ]
     },
     "metadata": {},
     "output_type": "display_data"
    },
    {
     "data": {
      "text/html": [
       "<div>\n",
       "<style scoped>\n",
       "    .dataframe tbody tr th:only-of-type {\n",
       "        vertical-align: middle;\n",
       "    }\n",
       "\n",
       "    .dataframe tbody tr th {\n",
       "        vertical-align: top;\n",
       "    }\n",
       "\n",
       "    .dataframe thead th {\n",
       "        text-align: right;\n",
       "    }\n",
       "</style>\n",
       "<table border=\"1\" class=\"dataframe\">\n",
       "  <thead>\n",
       "    <tr style=\"text-align: right;\">\n",
       "      <th></th>\n",
       "      <th>n</th>\n",
       "      <th>r</th>\n",
       "      <th>CI95%</th>\n",
       "      <th>BF10</th>\n",
       "      <th>power</th>\n",
       "    </tr>\n",
       "  </thead>\n",
       "  <tbody>\n",
       "    <tr>\n",
       "      <th>pearson</th>\n",
       "      <td>26</td>\n",
       "      <td>-0.079301</td>\n",
       "      <td>[-0.45, 0.32]</td>\n",
       "      <td>0.261</td>\n",
       "      <td>0.066774</td>\n",
       "    </tr>\n",
       "  </tbody>\n",
       "</table>\n",
       "</div>"
      ],
      "text/plain": [
       "          n         r          CI95%   BF10     power\n",
       "pearson  26 -0.079301  [-0.45, 0.32]  0.261  0.066774"
      ]
     },
     "metadata": {},
     "output_type": "display_data"
    },
    {
     "data": {
      "text/plain": [
       "'depression to between nodes'"
      ]
     },
     "metadata": {},
     "output_type": "display_data"
    },
    {
     "data": {
      "text/html": [
       "<div>\n",
       "<style scoped>\n",
       "    .dataframe tbody tr th:only-of-type {\n",
       "        vertical-align: middle;\n",
       "    }\n",
       "\n",
       "    .dataframe tbody tr th {\n",
       "        vertical-align: top;\n",
       "    }\n",
       "\n",
       "    .dataframe thead th {\n",
       "        text-align: right;\n",
       "    }\n",
       "</style>\n",
       "<table border=\"1\" class=\"dataframe\">\n",
       "  <thead>\n",
       "    <tr style=\"text-align: right;\">\n",
       "      <th></th>\n",
       "      <th>n</th>\n",
       "      <th>r</th>\n",
       "      <th>CI95%</th>\n",
       "      <th>BF10</th>\n",
       "      <th>power</th>\n",
       "    </tr>\n",
       "  </thead>\n",
       "  <tbody>\n",
       "    <tr>\n",
       "      <th>pearson</th>\n",
       "      <td>26</td>\n",
       "      <td>-0.191757</td>\n",
       "      <td>[-0.54, 0.21]</td>\n",
       "      <td>0.37</td>\n",
       "      <td>0.156728</td>\n",
       "    </tr>\n",
       "  </tbody>\n",
       "</table>\n",
       "</div>"
      ],
      "text/plain": [
       "          n         r          CI95%  BF10     power\n",
       "pearson  26 -0.191757  [-0.54, 0.21]  0.37  0.156728"
      ]
     },
     "metadata": {},
     "output_type": "display_data"
    },
    {
     "data": {
      "text/plain": [
       "'age to between nodes'"
      ]
     },
     "metadata": {},
     "output_type": "display_data"
    },
    {
     "data": {
      "text/html": [
       "<div>\n",
       "<style scoped>\n",
       "    .dataframe tbody tr th:only-of-type {\n",
       "        vertical-align: middle;\n",
       "    }\n",
       "\n",
       "    .dataframe tbody tr th {\n",
       "        vertical-align: top;\n",
       "    }\n",
       "\n",
       "    .dataframe thead th {\n",
       "        text-align: right;\n",
       "    }\n",
       "</style>\n",
       "<table border=\"1\" class=\"dataframe\">\n",
       "  <thead>\n",
       "    <tr style=\"text-align: right;\">\n",
       "      <th></th>\n",
       "      <th>n</th>\n",
       "      <th>r</th>\n",
       "      <th>CI95%</th>\n",
       "      <th>BF10</th>\n",
       "      <th>power</th>\n",
       "    </tr>\n",
       "  </thead>\n",
       "  <tbody>\n",
       "    <tr>\n",
       "      <th>pearson</th>\n",
       "      <td>27</td>\n",
       "      <td>0.149147</td>\n",
       "      <td>[-0.24, 0.5]</td>\n",
       "      <td>0.311</td>\n",
       "      <td>0.11557</td>\n",
       "    </tr>\n",
       "  </tbody>\n",
       "</table>\n",
       "</div>"
      ],
      "text/plain": [
       "          n         r         CI95%   BF10    power\n",
       "pearson  27  0.149147  [-0.24, 0.5]  0.311  0.11557"
      ]
     },
     "metadata": {},
     "output_type": "display_data"
    },
    {
     "data": {
      "text/plain": [
       "'bmi to between nodes'"
      ]
     },
     "metadata": {},
     "output_type": "display_data"
    },
    {
     "data": {
      "text/html": [
       "<div>\n",
       "<style scoped>\n",
       "    .dataframe tbody tr th:only-of-type {\n",
       "        vertical-align: middle;\n",
       "    }\n",
       "\n",
       "    .dataframe tbody tr th {\n",
       "        vertical-align: top;\n",
       "    }\n",
       "\n",
       "    .dataframe thead th {\n",
       "        text-align: right;\n",
       "    }\n",
       "</style>\n",
       "<table border=\"1\" class=\"dataframe\">\n",
       "  <thead>\n",
       "    <tr style=\"text-align: right;\">\n",
       "      <th></th>\n",
       "      <th>n</th>\n",
       "      <th>r</th>\n",
       "      <th>CI95%</th>\n",
       "      <th>BF10</th>\n",
       "      <th>power</th>\n",
       "    </tr>\n",
       "  </thead>\n",
       "  <tbody>\n",
       "    <tr>\n",
       "      <th>pearson</th>\n",
       "      <td>27</td>\n",
       "      <td>-0.275873</td>\n",
       "      <td>[-0.59, 0.12]</td>\n",
       "      <td>0.601</td>\n",
       "      <td>0.291045</td>\n",
       "    </tr>\n",
       "  </tbody>\n",
       "</table>\n",
       "</div>"
      ],
      "text/plain": [
       "          n         r          CI95%   BF10     power\n",
       "pearson  27 -0.275873  [-0.59, 0.12]  0.601  0.291045"
      ]
     },
     "metadata": {},
     "output_type": "display_data"
    }
   ],
   "source": [
    "for col in hc.columns[1:]:\n",
    "    display(f'{col} to between nodes', pg.corr(hc[col], hc_ordering['leading_eigenvector_component_phases'].var(axis=0)).drop('p-val', axis=1))"
   ]
  },
  {
   "cell_type": "code",
   "execution_count": 98,
   "metadata": {},
   "outputs": [
    {
     "data": {
      "text/plain": [
       "'edeq_global_score to between nodes'"
      ]
     },
     "metadata": {},
     "output_type": "display_data"
    },
    {
     "data": {
      "text/html": [
       "<div>\n",
       "<style scoped>\n",
       "    .dataframe tbody tr th:only-of-type {\n",
       "        vertical-align: middle;\n",
       "    }\n",
       "\n",
       "    .dataframe tbody tr th {\n",
       "        vertical-align: top;\n",
       "    }\n",
       "\n",
       "    .dataframe thead th {\n",
       "        text-align: right;\n",
       "    }\n",
       "</style>\n",
       "<table border=\"1\" class=\"dataframe\">\n",
       "  <thead>\n",
       "    <tr style=\"text-align: right;\">\n",
       "      <th></th>\n",
       "      <th>n</th>\n",
       "      <th>r</th>\n",
       "      <th>CI95%</th>\n",
       "      <th>BF10</th>\n",
       "      <th>power</th>\n",
       "    </tr>\n",
       "  </thead>\n",
       "  <tbody>\n",
       "    <tr>\n",
       "      <th>pearson</th>\n",
       "      <td>62</td>\n",
       "      <td>0.154575</td>\n",
       "      <td>[-0.1, 0.39]</td>\n",
       "      <td>0.32</td>\n",
       "      <td>0.225736</td>\n",
       "    </tr>\n",
       "  </tbody>\n",
       "</table>\n",
       "</div>"
      ],
      "text/plain": [
       "          n         r         CI95%  BF10     power\n",
       "pearson  62  0.154575  [-0.1, 0.39]  0.32  0.225736"
      ]
     },
     "metadata": {},
     "output_type": "display_data"
    },
    {
     "data": {
      "text/plain": [
       "'anxiety to between nodes'"
      ]
     },
     "metadata": {},
     "output_type": "display_data"
    },
    {
     "data": {
      "text/html": [
       "<div>\n",
       "<style scoped>\n",
       "    .dataframe tbody tr th:only-of-type {\n",
       "        vertical-align: middle;\n",
       "    }\n",
       "\n",
       "    .dataframe tbody tr th {\n",
       "        vertical-align: top;\n",
       "    }\n",
       "\n",
       "    .dataframe thead th {\n",
       "        text-align: right;\n",
       "    }\n",
       "</style>\n",
       "<table border=\"1\" class=\"dataframe\">\n",
       "  <thead>\n",
       "    <tr style=\"text-align: right;\">\n",
       "      <th></th>\n",
       "      <th>n</th>\n",
       "      <th>r</th>\n",
       "      <th>CI95%</th>\n",
       "      <th>BF10</th>\n",
       "      <th>power</th>\n",
       "    </tr>\n",
       "  </thead>\n",
       "  <tbody>\n",
       "    <tr>\n",
       "      <th>pearson</th>\n",
       "      <td>62</td>\n",
       "      <td>0.264158</td>\n",
       "      <td>[0.02, 0.48]</td>\n",
       "      <td>1.298</td>\n",
       "      <td>0.552846</td>\n",
       "    </tr>\n",
       "  </tbody>\n",
       "</table>\n",
       "</div>"
      ],
      "text/plain": [
       "          n         r         CI95%   BF10     power\n",
       "pearson  62  0.264158  [0.02, 0.48]  1.298  0.552846"
      ]
     },
     "metadata": {},
     "output_type": "display_data"
    },
    {
     "data": {
      "text/plain": [
       "'depression to between nodes'"
      ]
     },
     "metadata": {},
     "output_type": "display_data"
    },
    {
     "data": {
      "text/html": [
       "<div>\n",
       "<style scoped>\n",
       "    .dataframe tbody tr th:only-of-type {\n",
       "        vertical-align: middle;\n",
       "    }\n",
       "\n",
       "    .dataframe tbody tr th {\n",
       "        vertical-align: top;\n",
       "    }\n",
       "\n",
       "    .dataframe thead th {\n",
       "        text-align: right;\n",
       "    }\n",
       "</style>\n",
       "<table border=\"1\" class=\"dataframe\">\n",
       "  <thead>\n",
       "    <tr style=\"text-align: right;\">\n",
       "      <th></th>\n",
       "      <th>n</th>\n",
       "      <th>r</th>\n",
       "      <th>CI95%</th>\n",
       "      <th>BF10</th>\n",
       "      <th>power</th>\n",
       "    </tr>\n",
       "  </thead>\n",
       "  <tbody>\n",
       "    <tr>\n",
       "      <th>pearson</th>\n",
       "      <td>62</td>\n",
       "      <td>0.303408</td>\n",
       "      <td>[0.06, 0.51]</td>\n",
       "      <td>2.626</td>\n",
       "      <td>0.678401</td>\n",
       "    </tr>\n",
       "  </tbody>\n",
       "</table>\n",
       "</div>"
      ],
      "text/plain": [
       "          n         r         CI95%   BF10     power\n",
       "pearson  62  0.303408  [0.06, 0.51]  2.626  0.678401"
      ]
     },
     "metadata": {},
     "output_type": "display_data"
    },
    {
     "data": {
      "text/plain": [
       "'age to between nodes'"
      ]
     },
     "metadata": {},
     "output_type": "display_data"
    },
    {
     "data": {
      "text/html": [
       "<div>\n",
       "<style scoped>\n",
       "    .dataframe tbody tr th:only-of-type {\n",
       "        vertical-align: middle;\n",
       "    }\n",
       "\n",
       "    .dataframe tbody tr th {\n",
       "        vertical-align: top;\n",
       "    }\n",
       "\n",
       "    .dataframe thead th {\n",
       "        text-align: right;\n",
       "    }\n",
       "</style>\n",
       "<table border=\"1\" class=\"dataframe\">\n",
       "  <thead>\n",
       "    <tr style=\"text-align: right;\">\n",
       "      <th></th>\n",
       "      <th>n</th>\n",
       "      <th>r</th>\n",
       "      <th>CI95%</th>\n",
       "      <th>BF10</th>\n",
       "      <th>power</th>\n",
       "    </tr>\n",
       "  </thead>\n",
       "  <tbody>\n",
       "    <tr>\n",
       "      <th>pearson</th>\n",
       "      <td>63</td>\n",
       "      <td>-0.004196</td>\n",
       "      <td>[-0.25, 0.24]</td>\n",
       "      <td>0.157</td>\n",
       "      <td>0.049872</td>\n",
       "    </tr>\n",
       "  </tbody>\n",
       "</table>\n",
       "</div>"
      ],
      "text/plain": [
       "          n         r          CI95%   BF10     power\n",
       "pearson  63 -0.004196  [-0.25, 0.24]  0.157  0.049872"
      ]
     },
     "metadata": {},
     "output_type": "display_data"
    },
    {
     "data": {
      "text/plain": [
       "'bmi to between nodes'"
      ]
     },
     "metadata": {},
     "output_type": "display_data"
    },
    {
     "data": {
      "text/html": [
       "<div>\n",
       "<style scoped>\n",
       "    .dataframe tbody tr th:only-of-type {\n",
       "        vertical-align: middle;\n",
       "    }\n",
       "\n",
       "    .dataframe tbody tr th {\n",
       "        vertical-align: top;\n",
       "    }\n",
       "\n",
       "    .dataframe thead th {\n",
       "        text-align: right;\n",
       "    }\n",
       "</style>\n",
       "<table border=\"1\" class=\"dataframe\">\n",
       "  <thead>\n",
       "    <tr style=\"text-align: right;\">\n",
       "      <th></th>\n",
       "      <th>n</th>\n",
       "      <th>r</th>\n",
       "      <th>CI95%</th>\n",
       "      <th>BF10</th>\n",
       "      <th>power</th>\n",
       "    </tr>\n",
       "  </thead>\n",
       "  <tbody>\n",
       "    <tr>\n",
       "      <th>pearson</th>\n",
       "      <td>60</td>\n",
       "      <td>-0.248304</td>\n",
       "      <td>[-0.47, 0.01]</td>\n",
       "      <td>0.962</td>\n",
       "      <td>0.48742</td>\n",
       "    </tr>\n",
       "  </tbody>\n",
       "</table>\n",
       "</div>"
      ],
      "text/plain": [
       "          n         r          CI95%   BF10    power\n",
       "pearson  60 -0.248304  [-0.47, 0.01]  0.962  0.48742"
      ]
     },
     "metadata": {},
     "output_type": "display_data"
    }
   ],
   "source": [
    "for col in hc.columns[1:]:\n",
    "    display(f'{col} to between nodes', pg.corr(an[col], an_ordering['leading_eigenvector_component_phases'].var(axis=0)).drop('p-val', axis=1))"
   ]
  }
 ],
 "metadata": {
  "kernelspec": {
   "display_name": "neuroimaging",
   "language": "python",
   "name": "python3"
  },
  "language_info": {
   "codemirror_mode": {
    "name": "ipython",
    "version": 3
   },
   "file_extension": ".py",
   "mimetype": "text/x-python",
   "name": "python",
   "nbconvert_exporter": "python",
   "pygments_lexer": "ipython3",
   "version": "3.10.12"
  }
 },
 "nbformat": 4,
 "nbformat_minor": 2
}
