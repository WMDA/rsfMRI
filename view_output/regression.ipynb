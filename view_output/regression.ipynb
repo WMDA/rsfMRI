{
 "cells": [
  {
   "cell_type": "code",
   "execution_count": 1,
   "metadata": {},
   "outputs": [],
   "source": [
    "from decouple import config\n",
    "import os\n",
    "import pandas as pd\n",
    "from nilearn import datasets, plotting, image\n",
    "from sklearn import linear_model\n",
    "from fNeuro.utils.pickling import load_pickle \n",
    "from fNeuro.ml.ml_functions import estimate_regression_model\n",
    "from fNeuro.connectivity.connectivity import get_correlation_long_df, get_mean_correlation_matrix\n",
    "from fNeuro.connectivity.organise_networks import order_networks\n",
    "import seaborn as sns\n",
    "sns.set_style('darkgrid')\n",
    "import matplotlib.pyplot as plt\n",
    "import re\n",
    "import numpy as np\n",
    "import pandas as pd"
   ]
  },
  {
   "cell_type": "code",
   "execution_count": 2,
   "metadata": {},
   "outputs": [],
   "source": [
    "#ml imports\n",
    "from sklearn import svm\n",
    "from sklearn.model_selection import StratifiedShuffleSplit\n",
    "from sklearn.model_selection import GridSearchCV\n",
    "from sklearn.model_selection import cross_val_score\n",
    "from sklearn import linear_model\n",
    "from sklearn.ensemble import RandomForestRegressor\n",
    "from sklearn.feature_selection import RFECV\n",
    "from sklearn.model_selection import StratifiedKFold\n",
    "from sklearn.ensemble import BaggingRegressor\n",
    "from sklearn.ensemble import StackingRegressor"
   ]
  },
  {
   "cell_type": "code",
   "execution_count": 3,
   "metadata": {},
   "outputs": [],
   "source": [
    "resting_path = config('resting')\n",
    "time_series = load_pickle(os.path.join(resting_path, 'measures', 'time_series'))\n",
    "group = np.asarray(list(time_series['an'].values()) + list(time_series['hc'].values()))"
   ]
  },
  {
   "cell_type": "code",
   "execution_count": 4,
   "metadata": {},
   "outputs": [
    {
     "name": "stderr",
     "output_type": "stream",
     "text": [
      "/tmp/ipykernel_1325362/3537036702.py:4: SettingWithCopyWarning: \n",
      "A value is trying to be set on a copy of a slice from a DataFrame\n",
      "\n",
      "See the caveats in the documentation: https://pandas.pydata.org/pandas-docs/stable/user_guide/indexing.html#returning-a-view-versus-a-copy\n",
      "  autistic_traits['B_Number'].loc[autistic_traits[autistic_traits['B_Number'] == 'B2024b'].index[0]] = 'B2024'\n"
     ]
    }
   ],
   "source": [
    "autistic_traits = pd.read_csv(os.path.join(resting_path, 'autistic_traits_neuroimaging.csv'))\n",
    "autistic_traits['B_Number'] = autistic_traits['B_Number'].str.rstrip()\n",
    "autistic_traits = autistic_traits.drop(autistic_traits[autistic_traits['B_Number'].str.contains('B2010')].index).reset_index(drop=True)\n",
    "autistic_traits['B_Number'].loc[autistic_traits[autistic_traits['B_Number'] == 'B2024b'].index[0]] = 'B2024'\n",
    "connectome = load_pickle(os.path.join(resting_path, 'measures', 'connectome'))\n",
    "participant_order = load_pickle(os.path.join(resting_path, 'measures', 'connectome_participant_order'))\n",
    "order = [re.findall('B\\d\\d\\d\\d', participant)[0] for participant in participant_order]\n",
    "connectome_dict = dict(zip(order, connectome))\n",
    "msdl = datasets.fetch_atlas_msdl()\n",
    "msdl_overview_df = pd.DataFrame({'labels': msdl['labels'],\n",
    "                                  'networks': msdl['networks'],\n",
    "                                  'region_coords': msdl['region_coords']\n",
    "                                  })\n"
   ]
  },
  {
   "cell_type": "code",
   "execution_count": 42,
   "metadata": {},
   "outputs": [],
   "source": [
    "correlation_matrix = get_mean_correlation_matrix(group, msdl['labels'])\n",
    "an_df = get_correlation_long_df(correlation_matrix['an_mean_correlations'], msdl_overview_df)"
   ]
  },
  {
   "cell_type": "markdown",
   "metadata": {},
   "source": [
    "## AQ10"
   ]
  },
  {
   "cell_type": "code",
   "execution_count": 6,
   "metadata": {},
   "outputs": [],
   "source": [
    "aq_df = autistic_traits[['B_Number', 'aq10']].dropna().reset_index(drop=True)\n",
    "y_aq = aq_df['aq10'].values\n",
    "x_aq = np.array([connectome_dict.get(key) for key in aq_df['B_Number'].values])"
   ]
  },
  {
   "cell_type": "code",
   "execution_count": 7,
   "metadata": {},
   "outputs": [
    {
     "data": {
      "text/plain": [
       "<Axes: ylabel='Count'>"
      ]
     },
     "execution_count": 7,
     "metadata": {},
     "output_type": "execute_result"
    },
    {
     "data": {
      "image/png": "[encoded data removed]",
      "text/plain": [
       "<Figure size 640x480 with 1 Axes>"
      ]
     },
     "metadata": {},
     "output_type": "display_data"
    }
   ],
   "source": [
    "sns.histplot(data=y_aq, kde=True)"
   ]
  },
  {
   "cell_type": "code",
   "execution_count": 50,
   "metadata": {},
   "outputs": [],
   "source": [
    "from sklearn.feature_selection import r_regression\n",
    "test = r_regression(x_aq, y_aq)\n",
    "index = np.where((test > 0.1) | (test < -0.1))[0]\n",
    "x = x_aq[0:, index]\n",
    "an_df_aq = an_df.iloc[index]"
   ]
  },
  {
   "cell_type": "code",
   "execution_count": 9,
   "metadata": {},
   "outputs": [
    {
     "name": "stdout",
     "output_type": "stream",
     "text": [
      "R2:  -0.07360712884466067\n",
      "MAE:  -2.088226657488294\n",
      "MSE:  -6.661414328771843\n"
     ]
    }
   ],
   "source": [
    "lasso = linear_model.LassoCV(cv=10, n_jobs=3)\n",
    "scores_lasso = estimate_regression_model(lasso, x, y_aq)\n",
    "print('R2: ', scores_lasso['r2'].mean())\n",
    "print('MAE: ', scores_lasso['MAE'].mean())\n",
    "print('MSE: ', scores_lasso['MSE'].mean())"
   ]
  },
  {
   "cell_type": "code",
   "execution_count": 10,
   "metadata": {},
   "outputs": [
    {
     "name": "stdout",
     "output_type": "stream",
     "text": [
      "R2:  0.3263828720499099\n",
      "MAE:  -1.578087687629402\n",
      "MSE:  -4.169635627756922\n"
     ]
    }
   ],
   "source": [
    "ridge = linear_model.RidgeCV(alphas=[1e-3, 1e-2, 1e-1, 1])\n",
    "scores_ridge = estimate_regression_model(ridge, x, y_aq)\n",
    "print('R2: ', scores_ridge['r2'].mean())\n",
    "print('MAE: ', scores_ridge['MAE'].mean())\n",
    "print('MSE: ', scores_ridge['MSE'].mean())"
   ]
  },
  {
   "cell_type": "code",
   "execution_count": 11,
   "metadata": {},
   "outputs": [
    {
     "name": "stdout",
     "output_type": "stream",
     "text": [
      "R2:  0.33082814807615496\n",
      "MAE:  -1.5748808284525329\n",
      "MSE:  -4.142859800675713\n"
     ]
    }
   ],
   "source": [
    "svc_parameters = {'C': [1e-2, 1e-1, 1e0, 1e1, 1e2]}\n",
    "svm_regression = GridSearchCV(svm.SVR(kernel='linear', gamma=\"auto\"), svc_parameters)\n",
    "svm_regression.fit(x, y_aq)\n",
    "scores_svm = estimate_regression_model(svm_regression, x, y_aq)\n",
    "print('R2: ', scores_svm['r2'].mean())\n",
    "print('MAE: ', scores_svm['MAE'].mean())\n",
    "print('MSE: ', scores_svm['MSE'].mean())"
   ]
  },
  {
   "cell_type": "code",
   "execution_count": 12,
   "metadata": {},
   "outputs": [
    {
     "name": "stdout",
     "output_type": "stream",
     "text": [
      "R2:  0.10258373789378583\n",
      "MAE:  -1.9906960863227325\n",
      "MSE:  -5.570562437215904\n"
     ]
    }
   ],
   "source": [
    "tree_parm = {'max_depth':[3, 5, 7]}\n",
    "ran_forest = GridSearchCV(RandomForestRegressor(random_state=0), tree_parm)\n",
    "score_ran = estimate_regression_model(ran_forest, x, y_aq)\n",
    "print('R2: ', score_ran['r2'].mean())\n",
    "print('MAE: ', score_ran['MAE'].mean())\n",
    "print('MSE: ', score_ran['MSE'].mean())"
   ]
  },
  {
   "cell_type": "code",
   "execution_count": 13,
   "metadata": {},
   "outputs": [
    {
     "name": "stdout",
     "output_type": "stream",
     "text": [
      "R2:  0.3091507651547773\n",
      "MAE:  -1.6343381264744192\n",
      "MSE:  -4.279206894790424\n"
     ]
    }
   ],
   "source": [
    "estimators = [('ridge',linear_model.RidgeCV(alphas=[1e-3, 1e-2, 1e-1, 1])), ('svr', svm.SVR(kernel='linear', gamma=\"auto\"))]\n",
    "stacked_estimator = StackingRegressor(estimators)\n",
    "stacked_estimator_model = estimate_regression_model(stacked_estimator, x, y_aq)\n",
    "print('R2: ', stacked_estimator_model['r2'].mean())\n",
    "print('MAE: ', stacked_estimator_model['MAE'].mean())\n",
    "print('MSE: ', stacked_estimator_model['MSE'].mean())"
   ]
  },
  {
   "cell_type": "code",
   "execution_count": 14,
   "metadata": {},
   "outputs": [],
   "source": [
    "comp_score_dict = {'r2': pd.DataFrame(data={\n",
    "                                            'lasso': scores_lasso['r2'],\n",
    "                                            'ridge': scores_ridge['r2'],\n",
    "                                            'random_forest': score_ran['r2'],\n",
    "                                            'svr': scores_svm['r2'],\n",
    "                                            'stacked': stacked_estimator_model['r2'],\n",
    "                                                }),\n",
    "                'MAE': pd.DataFrame(data={\n",
    "                                            'lasso': scores_lasso['MAE'],\n",
    "                                            'ridge': scores_ridge['MAE'],\n",
    "                                            'random_forest': score_ran['MAE'],\n",
    "                                            'svr': scores_svm['MAE'],\n",
    "                                            'stacked': stacked_estimator_model['MAE'],\n",
    "                                                }),\n",
    "                'MSE': pd.DataFrame(data={\n",
    "                                            'lasso': scores_lasso['MSE'],\n",
    "                                            'ridge': scores_ridge['MSE'],\n",
    "                                            'random_forest': score_ran['MSE'],\n",
    "                                            'svr': scores_svm['MSE'],\n",
    "                                            'stacked': stacked_estimator_model['MSE'],\n",
    "                                                })\n",
    "}\n"
   ]
  },
  {
   "cell_type": "code",
   "execution_count": 15,
   "metadata": {},
   "outputs": [
    {
     "data": {
      "text/plain": [
       "<Axes: xlabel='r2', ylabel='Model'>"
      ]
     },
     "execution_count": 15,
     "metadata": {},
     "output_type": "execute_result"
    },
    {
     "data": {
      "image/png": "[encoded data removed]",
      "text/plain": [
       "<Figure size 640x480 with 1 Axes>"
      ]
     },
     "metadata": {},
     "output_type": "display_data"
    }
   ],
   "source": [
    "sns.barplot(data=pd.melt(comp_score_dict['r2']).rename(columns={'variable': 'Model', 'value': 'r2'}), \n",
    "                   x='r2', y='Model')"
   ]
  },
  {
   "cell_type": "code",
   "execution_count": 16,
   "metadata": {},
   "outputs": [
    {
     "data": {
      "text/plain": [
       "<Axes: xlabel='Negative Mean Absolute Error', ylabel='Model'>"
      ]
     },
     "execution_count": 16,
     "metadata": {},
     "output_type": "execute_result"
    },
    {
     "data": {
      "image/png": "[encoded data removed]",
      "text/plain": [
       "<Figure size 640x480 with 1 Axes>"
      ]
     },
     "metadata": {},
     "output_type": "display_data"
    }
   ],
   "source": [
    "sns.barplot(data=pd.melt(comp_score_dict['MAE']).rename(columns={'variable': 'Model', 'value': 'Negative Mean Absolute Error'}), \n",
    "                   x='Negative Mean Absolute Error', y='Model')"
   ]
  },
  {
   "cell_type": "code",
   "execution_count": 17,
   "metadata": {},
   "outputs": [
    {
     "data": {
      "text/plain": [
       "<Axes: xlabel='Negative Mean Squared Error', ylabel='Model'>"
      ]
     },
     "execution_count": 17,
     "metadata": {},
     "output_type": "execute_result"
    },
    {
     "data": {
      "image/png": "[encoded data removed]",
      "text/plain": [
       "<Figure size 640x480 with 1 Axes>"
      ]
     },
     "metadata": {},
     "output_type": "display_data"
    }
   ],
   "source": [
    "sns.barplot(data=pd.melt(comp_score_dict['MSE']).rename(columns={'variable': 'Model', 'value': 'Negative Mean Squared Error'}), \n",
    "                   x='Negative Mean Squared Error', y='Model')"
   ]
  },
  {
   "cell_type": "code",
   "execution_count": 51,
   "metadata": {},
   "outputs": [
    {
     "name": "stderr",
     "output_type": "stream",
     "text": [
      "/tmp/ipykernel_1325362/3224315592.py:1: SettingWithCopyWarning: \n",
      "A value is trying to be set on a copy of a slice from a DataFrame.\n",
      "Try using .loc[row_indexer,col_indexer] = value instead\n",
      "\n",
      "See the caveats in the documentation: https://pandas.pydata.org/pandas-docs/stable/user_guide/indexing.html#returning-a-view-versus-a-copy\n",
      "  an_df_aq['svr_values'] = svm_regression.best_estimator_.coef_.T\n"
     ]
    }
   ],
   "source": [
    "an_df_aq['svr_values'] = svm_regression.best_estimator_.coef_.T"
   ]
  },
  {
   "cell_type": "code",
   "execution_count": 52,
   "metadata": {},
   "outputs": [
    {
     "data": {
      "text/html": [
       "<div>\n",
       "<style scoped>\n",
       "    .dataframe tbody tr th:only-of-type {\n",
       "        vertical-align: middle;\n",
       "    }\n",
       "\n",
       "    .dataframe tbody tr th {\n",
       "        vertical-align: top;\n",
       "    }\n",
       "\n",
       "    .dataframe thead th {\n",
       "        text-align: right;\n",
       "    }\n",
       "</style>\n",
       "<table border=\"1\" class=\"dataframe\">\n",
       "  <thead>\n",
       "    <tr style=\"text-align: right;\">\n",
       "      <th></th>\n",
       "      <th>corr_names</th>\n",
       "      <th>correlation</th>\n",
       "      <th>network_names</th>\n",
       "      <th>svr_values</th>\n",
       "    </tr>\n",
       "  </thead>\n",
       "  <tbody>\n",
       "    <tr>\n",
       "      <th>5</th>\n",
       "      <td>Striate - L DMN</td>\n",
       "      <td>-2.378428</td>\n",
       "      <td>Striate - DMN</td>\n",
       "      <td>-0.003066</td>\n",
       "    </tr>\n",
       "    <tr>\n",
       "      <th>6</th>\n",
       "      <td>L Aud - Med DMN</td>\n",
       "      <td>2.629387</td>\n",
       "      <td>Aud - DMN</td>\n",
       "      <td>0.000949</td>\n",
       "    </tr>\n",
       "    <tr>\n",
       "      <th>7</th>\n",
       "      <td>R Aud - Med DMN</td>\n",
       "      <td>2.301681</td>\n",
       "      <td>Aud - DMN</td>\n",
       "      <td>-0.003150</td>\n",
       "    </tr>\n",
       "    <tr>\n",
       "      <th>8</th>\n",
       "      <td>Striate - Med DMN</td>\n",
       "      <td>-3.954418</td>\n",
       "      <td>Striate - DMN</td>\n",
       "      <td>-0.002976</td>\n",
       "    </tr>\n",
       "    <tr>\n",
       "      <th>9</th>\n",
       "      <td>L DMN - Med DMN</td>\n",
       "      <td>-1.002768</td>\n",
       "      <td>DMN - DMN</td>\n",
       "      <td>-0.000536</td>\n",
       "    </tr>\n",
       "    <tr>\n",
       "      <th>...</th>\n",
       "      <td>...</td>\n",
       "      <td>...</td>\n",
       "      <td>...</td>\n",
       "      <td>...</td>\n",
       "    </tr>\n",
       "    <tr>\n",
       "      <th>731</th>\n",
       "      <td>Broca - R Ant IPS</td>\n",
       "      <td>3.049106</td>\n",
       "      <td>Language - Ant IPS</td>\n",
       "      <td>-0.006868</td>\n",
       "    </tr>\n",
       "    <tr>\n",
       "      <th>732</th>\n",
       "      <td>Sup Front S - R Ant IPS</td>\n",
       "      <td>1.345453</td>\n",
       "      <td>Language - Ant IPS</td>\n",
       "      <td>-0.000484</td>\n",
       "    </tr>\n",
       "    <tr>\n",
       "      <th>735</th>\n",
       "      <td>Cereb - R Ant IPS</td>\n",
       "      <td>-0.965142</td>\n",
       "      <td>Cereb - Ant IPS</td>\n",
       "      <td>-0.000754</td>\n",
       "    </tr>\n",
       "    <tr>\n",
       "      <th>736</th>\n",
       "      <td>Dors PCC - R Ant IPS</td>\n",
       "      <td>2.681498</td>\n",
       "      <td>Dors PCC - Ant IPS</td>\n",
       "      <td>-0.007447</td>\n",
       "    </tr>\n",
       "    <tr>\n",
       "      <th>740</th>\n",
       "      <td>L Ant IPS - R Ant IPS</td>\n",
       "      <td>0.825037</td>\n",
       "      <td>Ant IPS - Ant IPS</td>\n",
       "      <td>0.007284</td>\n",
       "    </tr>\n",
       "  </tbody>\n",
       "</table>\n",
       "<p>287 rows × 4 columns</p>\n",
       "</div>"
      ],
      "text/plain": [
       "                  corr_names  correlation       network_names  svr_values\n",
       "5            Striate - L DMN    -2.378428       Striate - DMN   -0.003066\n",
       "6            L Aud - Med DMN     2.629387           Aud - DMN    0.000949\n",
       "7            R Aud - Med DMN     2.301681           Aud - DMN   -0.003150\n",
       "8          Striate - Med DMN    -3.954418       Striate - DMN   -0.002976\n",
       "9            L DMN - Med DMN    -1.002768           DMN - DMN   -0.000536\n",
       "..                       ...          ...                 ...         ...\n",
       "731        Broca - R Ant IPS     3.049106  Language - Ant IPS   -0.006868\n",
       "732  Sup Front S - R Ant IPS     1.345453  Language - Ant IPS   -0.000484\n",
       "735        Cereb - R Ant IPS    -0.965142     Cereb - Ant IPS   -0.000754\n",
       "736     Dors PCC - R Ant IPS     2.681498  Dors PCC - Ant IPS   -0.007447\n",
       "740    L Ant IPS - R Ant IPS     0.825037   Ant IPS - Ant IPS    0.007284\n",
       "\n",
       "[287 rows x 4 columns]"
      ]
     },
     "execution_count": 52,
     "metadata": {},
     "output_type": "execute_result"
    }
   ],
   "source": [
    "an_df_aq"
   ]
  },
  {
   "cell_type": "code",
   "execution_count": 48,
   "metadata": {},
   "outputs": [],
   "source": [
    "def seggregate_networks(network_vals: dict):\n",
    "    '''\n",
    "    Function to concat the output of order networks\n",
    "    into two dataframes\n",
    "\n",
    "    Parameters\n",
    "    ----------\n",
    "    network_vals: dict\n",
    "        output from seggregate_networks function\n",
    "    \n",
    "    Returns\n",
    "    -------\n",
    "    dict: Dictionary object\n",
    "        dict object of within network and\n",
    "        between network concat dataframes\n",
    "\n",
    "    '''\n",
    "    within_df = []\n",
    "    between_df = []\n",
    "    for key in network_vals.keys():\n",
    "        if len(network_vals[key]['within']) > 0:\n",
    "            within_df.append(network_vals[key]['within'])\n",
    "        if len(network_vals[key]['between']) > 0:\n",
    "            between_df.append(network_vals[key]['between'])\n",
    "    return {\n",
    "        'within_df': pd.concat(within_df).sort_values(by='svr_values',key=abs, ascending=False).reset_index(drop=True),\n",
    "        'between_df': pd.concat(between_df).sort_values(by='svr_values',key=abs, ascending=False).reset_index(drop=True)\n",
    "    }"
   ]
  },
  {
   "cell_type": "code",
   "execution_count": 53,
   "metadata": {},
   "outputs": [],
   "source": [
    "network_vals = order_networks(msdl_overview_df, an_df_aq, 'network_names')\n",
    "network_seg = seggregate_networks(network_vals)"
   ]
  },
  {
   "cell_type": "code",
   "execution_count": 54,
   "metadata": {},
   "outputs": [
    {
     "data": {
      "text/plain": [
       "corr_names         L Par - L DLPFC\n",
       "correlation              -1.228584\n",
       "network_names    L V Att - L V Att\n",
       "svr_values                0.007585\n",
       "Name: 0, dtype: object"
      ]
     },
     "execution_count": 54,
     "metadata": {},
     "output_type": "execute_result"
    }
   ],
   "source": [
    "network_seg['within_df'].iloc[0]"
   ]
  },
  {
   "cell_type": "code",
   "execution_count": 55,
   "metadata": {},
   "outputs": [
    {
     "data": {
      "text/plain": [
       "corr_names       R Aud - L IPS\n",
       "correlation          -3.592281\n",
       "network_names      Aud - D Att\n",
       "svr_values            0.009736\n",
       "Name: 0, dtype: object"
      ]
     },
     "execution_count": 55,
     "metadata": {},
     "output_type": "execute_result"
    }
   ],
   "source": [
    "network_seg['between_df'].iloc[0]"
   ]
  },
  {
   "cell_type": "markdown",
   "metadata": {},
   "source": [
    "## ADOS\n"
   ]
  },
  {
   "cell_type": "code",
   "execution_count": 24,
   "metadata": {},
   "outputs": [],
   "source": [
    "ados_df = autistic_traits[['B_Number', 'ADOS total']].dropna().reset_index(drop=True)\n",
    "y_ados = ados_df['ADOS total'].values\n",
    "x_ados = np.array([connectome_dict.get(key) for key in ados_df['B_Number'].values])"
   ]
  },
  {
   "cell_type": "code",
   "execution_count": 25,
   "metadata": {},
   "outputs": [
    {
     "data": {
      "image/png": "[encoded data removed]",
      "text/plain": [
       "<Figure size 640x480 with 1 Axes>"
      ]
     },
     "metadata": {},
     "output_type": "display_data"
    }
   ],
   "source": [
    "sns.histplot(data=y_ados, kde=True)\n",
    "plt.show()"
   ]
  },
  {
   "cell_type": "code",
   "execution_count": 45,
   "metadata": {},
   "outputs": [],
   "source": [
    "from sklearn.feature_selection import r_regression\n",
    "from sklearn.metrics import mean_absolute_error\n",
    "test = r_regression(x_ados, y_ados)\n",
    "index = np.where((test > 0.1) | (test < -0.1))[0]\n",
    "x_ados = x_ados[0:, index]\n",
    "an_df_ados = an_df.iloc[index]"
   ]
  },
  {
   "cell_type": "code",
   "execution_count": 27,
   "metadata": {},
   "outputs": [],
   "source": [
    "from sklearn.model_selection import train_test_split\n",
    "\n",
    "X_train, X_test, y_train, y_test = train_test_split(\n",
    "    x_ados, y_ados,  random_state=0, test_size=0.3\n",
    ")"
   ]
  },
  {
   "cell_type": "code",
   "execution_count": 28,
   "metadata": {},
   "outputs": [
    {
     "name": "stdout",
     "output_type": "stream",
     "text": [
      "R2:  0.4094377487884532\n",
      "MAE:  6.586887943425542\n"
     ]
    }
   ],
   "source": [
    "svc_parameters = {'C': [1e-2, 1e-1, 1e0, 1e1, 1e2]}\n",
    "svr_ados = GridSearchCV(svm.SVR(kernel='linear', gamma=\"auto\"), svc_parameters)\n",
    "svr_ados.fit(X_train, y_train)\n",
    "svr_score_ados = svr_ados.score(X_test, y_test)\n",
    "svr_mae_ados = mean_absolute_error(y_test, svr_ados.predict(X_test))\n",
    "print('R2: ', svr_score_ados )\n",
    "print('MAE: ', svr_mae_ados)"
   ]
  },
  {
   "cell_type": "code",
   "execution_count": 29,
   "metadata": {},
   "outputs": [
    {
     "name": "stdout",
     "output_type": "stream",
     "text": [
      "R2:  -0.4662011646338353\n",
      "MAE:  9.775684399991016\n"
     ]
    }
   ],
   "source": [
    "lasso_ados = linear_model.LassoCV(cv=10, n_jobs=3)\n",
    "lasso_ados.fit(X_train, y_train)\n",
    "lasso_ados_score = lasso_ados.score(X_test, y_test)\n",
    "lasso_mae_ados = mean_absolute_error(y_test, lasso_ados.predict(X_test))\n",
    "print('R2: ', lasso_ados_score)\n",
    "print('MAE: ', lasso_mae_ados)"
   ]
  },
  {
   "cell_type": "code",
   "execution_count": 30,
   "metadata": {},
   "outputs": [
    {
     "name": "stdout",
     "output_type": "stream",
     "text": [
      "R2:  0.41401786498378534\n",
      "MAE:  6.5615542585252795\n"
     ]
    }
   ],
   "source": [
    "ridge_ados = linear_model.RidgeCV(alphas=[1e-3, 1e-2, 1e-1, 1])\n",
    "ridge_ados.fit(X_train, y_train)\n",
    "ridge_ados_score = ridge_ados.score(X_test, y_test)\n",
    "ridge_mae_ados = mean_absolute_error(y_test, ridge_ados.predict(X_test))\n",
    "print('R2: ', ridge_ados_score)\n",
    "print('MAE: ', ridge_mae_ados)"
   ]
  },
  {
   "cell_type": "code",
   "execution_count": 31,
   "metadata": {},
   "outputs": [
    {
     "name": "stdout",
     "output_type": "stream",
     "text": [
      "R2:  -0.192371255441961\n",
      "MAE:  9.029880819684129\n"
     ]
    }
   ],
   "source": [
    "tree_parm = {'max_depth':[3, 5, 7]}\n",
    "ran_forest_ados = GridSearchCV(RandomForestRegressor(random_state=0), tree_parm)\n",
    "ran_forest_ados.fit(X_train, y_train)\n",
    "ran_forest_ados_score = ran_forest_ados.score(X_test, y_test)\n",
    "ran_forest_mae_ados = mean_absolute_error(y_test, ran_forest_ados.predict(X_test))\n",
    "print('R2: ', ran_forest_ados_score)\n",
    "print('MAE: ', ran_forest_mae_ados)"
   ]
  },
  {
   "cell_type": "code",
   "execution_count": 39,
   "metadata": {},
   "outputs": [],
   "source": [
    "comp_score_dict_ados = {'r2': pd.DataFrame(data={\n",
    "                                            'lasso': lasso_ados_score,\n",
    "                                            'ridge': ridge_ados_score,\n",
    "                                            'random_forest': ran_forest_ados_score,\n",
    "                                            'svr': svr_score_ados,\n",
    "                                                }, index=[0, ]),\n",
    "                'MAE': pd.DataFrame(data={\n",
    "                                        'lasso': lasso_mae_ados,\n",
    "                                        'ridge': ridge_mae_ados,\n",
    "                                        'random_forest': ran_forest_mae_ados,\n",
    "                                        'svr': svr_mae_ados,\n",
    "                                                },index=[0, ]),\n",
    "}\n"
   ]
  },
  {
   "cell_type": "code",
   "execution_count": 40,
   "metadata": {},
   "outputs": [
    {
     "data": {
      "text/plain": [
       "<Axes: >"
      ]
     },
     "execution_count": 40,
     "metadata": {},
     "output_type": "execute_result"
    },
    {
     "data": {
      "image/png": "[encoded data removed]",
      "text/plain": [
       "<Figure size 640x480 with 1 Axes>"
      ]
     },
     "metadata": {},
     "output_type": "display_data"
    }
   ],
   "source": [
    "sns.barplot(data=comp_score_dict_ados['MAE'], orient=\"y\")"
   ]
  },
  {
   "cell_type": "code",
   "execution_count": 41,
   "metadata": {},
   "outputs": [
    {
     "data": {
      "text/plain": [
       "<Axes: >"
      ]
     },
     "execution_count": 41,
     "metadata": {},
     "output_type": "execute_result"
    },
    {
     "data": {
      "image/png": "[encoded data removed]",
      "text/plain": [
       "<Figure size 640x480 with 1 Axes>"
      ]
     },
     "metadata": {},
     "output_type": "display_data"
    }
   ],
   "source": [
    "sns.barplot(data=comp_score_dict_ados['r2'], orient=\"y\")"
   ]
  },
  {
   "cell_type": "code",
   "execution_count": 47,
   "metadata": {},
   "outputs": [
    {
     "name": "stderr",
     "output_type": "stream",
     "text": [
      "/tmp/ipykernel_1325362/3838282097.py:1: SettingWithCopyWarning: \n",
      "A value is trying to be set on a copy of a slice from a DataFrame.\n",
      "Try using .loc[row_indexer,col_indexer] = value instead\n",
      "\n",
      "See the caveats in the documentation: https://pandas.pydata.org/pandas-docs/stable/user_guide/indexing.html#returning-a-view-versus-a-copy\n",
      "  an_df_ados['svr_values'] = svr_ados.best_estimator_.coef_.T\n"
     ]
    }
   ],
   "source": [
    "an_df_ados['svr_values'] = svr_ados.best_estimator_.coef_.T"
   ]
  },
  {
   "cell_type": "code",
   "execution_count": 60,
   "metadata": {},
   "outputs": [],
   "source": [
    "network_vals_ados = order_networks(msdl_overview_df, an_df_ados, 'network_names')\n",
    "network_seg_ados = seggregate_networks(network_vals_ados)\n"
   ]
  },
  {
   "cell_type": "code",
   "execution_count": 61,
   "metadata": {},
   "outputs": [
    {
     "data": {
      "text/plain": [
       "corr_names             L STS - R STS\n",
       "correlation                 0.799667\n",
       "network_names    Temporal - Temporal\n",
       "svr_values                  0.010529\n",
       "Name: 0, dtype: object"
      ]
     },
     "execution_count": 61,
     "metadata": {},
     "output_type": "execute_result"
    }
   ],
   "source": [
    "network_seg_ados['within_df'].iloc[0]"
   ]
  },
  {
   "cell_type": "code",
   "execution_count": 62,
   "metadata": {},
   "outputs": [
    {
     "data": {
      "text/plain": [
       "corr_names          L DLPFC - L STS\n",
       "correlation                1.203768\n",
       "network_names    L V Att - Temporal\n",
       "svr_values                -0.018733\n",
       "Name: 0, dtype: object"
      ]
     },
     "execution_count": 62,
     "metadata": {},
     "output_type": "execute_result"
    }
   ],
   "source": [
    "network_seg_ados['between_df'].iloc[0]"
   ]
  }
 ],
 "metadata": {
  "kernelspec": {
   "display_name": "neuroimaging",
   "language": "python",
   "name": "python3"
  },
  "language_info": {
   "codemirror_mode": {
    "name": "ipython",
    "version": 3
   },
   "file_extension": ".py",
   "mimetype": "text/x-python",
   "name": "python",
   "nbconvert_exporter": "python",
   "pygments_lexer": "ipython3",
   "version": "3.10.12"
  }
 },
 "nbformat": 4,
 "nbformat_minor": 2
}
