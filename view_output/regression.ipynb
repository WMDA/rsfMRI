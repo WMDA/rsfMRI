{
 "cells": [
  {
   "cell_type": "code",
   "execution_count": 31,
   "metadata": {},
   "outputs": [],
   "source": [
    "from decouple import config\n",
    "import os\n",
    "import pandas as pd\n",
    "from nilearn import datasets, plotting, image\n",
    "from fNeuro.utils.pickling import load_pickle \n",
    "import re"
   ]
  },
  {
   "cell_type": "code",
   "execution_count": 54,
   "metadata": {},
   "outputs": [],
   "source": [
    "resting_path = config('resting')\n",
    "autistic_traits = pd.read_csv(os.path.join(resting_path, 'autistic_traits_neuroimaging.csv'))\n",
    "connectome = load_pickle(os.path.join(resting_path, 'measures', 'connectome'))\n",
    "participant_order = load_pickle(os.path.join(resting_path, 'measures', 'connectome_participant_order'))\n",
    "#an_time_series = time_series['an']\n",
    "#hc_time_series = time_series['hc']\n",
    "msdl = datasets.fetch_atlas_msdl()\n",
    "msdl_overview_df = pd.DataFrame({'labels': msdl['labels'],\n",
    "                                  'networks': msdl['networks'],\n",
    "                                  'region_coords': msdl['region_coords']\n",
    "                                  })"
   ]
  },
  {
   "cell_type": "code",
   "execution_count": 61,
   "metadata": {},
   "outputs": [],
   "source": [
    "an_participants = participant_order[27:]"
   ]
  },
  {
   "cell_type": "markdown",
   "metadata": {},
   "source": [
    "TODO\n",
    "1) reorder autistic traits csv to match connectome order\n",
    "2) get the index values of NAN\n",
    "3) Remove from the Connectome Matrix the index of the NaN values\n",
    "4) Build the regression models"
   ]
  },
  {
   "cell_type": "code",
   "execution_count": 64,
   "metadata": {},
   "outputs": [],
   "source": [
    "order = pd.DataFrame([re.findall('B\\d\\d\\d\\d', participant)[0] for participant in an_participants]).rename(columns={0: 'B_Number'})\n",
    "reordered = pd.merge(order, autistic_traits, on='B_Number', how='left')"
   ]
  },
  {
   "cell_type": "code",
   "execution_count": 55,
   "metadata": {},
   "outputs": [],
   "source": [
    "X = connectome[0:65]\n",
    "y =  "
   ]
  }
 ],
 "metadata": {
  "kernelspec": {
   "display_name": "neuroimaging",
   "language": "python",
   "name": "python3"
  },
  "language_info": {
   "codemirror_mode": {
    "name": "ipython",
    "version": 3
   },
   "file_extension": ".py",
   "mimetype": "text/x-python",
   "name": "python",
   "nbconvert_exporter": "python",
   "pygments_lexer": "ipython3",
   "version": "3.10.12"
  }
 },
 "nbformat": 4,
 "nbformat_minor": 2
}
